{
 "cells": [
  {
   "cell_type": "markdown",
   "id": "96eb62e8-6fff-4e2b-967c-643345a6e5af",
   "metadata": {},
   "source": [
    "# **D205 Data  Acquisition Performance Assessment**"
   ]
  },
  {
   "cell_type": "markdown",
   "id": "3c04288c-4f95-44cc-a600-f7ffc88e257b",
   "metadata": {},
   "source": [
    "## **A1: Research Question** \n",
    "My research question is, \"Which services are most commonly preferred by married customers?\" This question aims to understand the service preferences of a specific customer demographic, specifically those married. By identifying the services that married customers choose, businesses can customize their marketing and offer services to meet the needs and preferences of this particular group. For example, businesses can create bundles and discounts based on these preferences, reducing the likelihood of married customers canceling their subscriptions. Additionally, they can also enhance the services that this group most values. Ultimately, the goal is to ensure satisfaction among married customers, retain their loyalty, and drive business growth. \n",
    "\n",
    "## **A2: Identifying Data** \n",
    "To answer the research question, using data from the original dataset and the created table is necessary. The tables used to answer this research question effectively are the “customer” table and the add-on “services” table. \n",
    "From the “customer” table, I focused on two columns: \"customer_id,\" which serves as a means to link matching customer records in the original dataset and the created table, and \"Marital,\" which provides information about the marital status of customers, which is needed for identifying those who are married. \n",
    "The \"Services\" Table also has a column labeled “customer_id”. This column is essential to locate customers in both tables. Furthermore, every column in the “services” table was ulitzed, as I needed to calculate the type and number of services each customer used. The columns within the “services” table include names such as “internetservice\" (DSL / Fiber Optic), \"phone,\" \"multiple,\" \"techsupport,\" \"onlinebackup,\" \"onlinesecurity,\" and \"deviceprotection.\" Collectively, these columns provide insights into the usage of different services among customers, contributing to the overall research analysis. "
   ]
  },
  {
   "cell_type": "markdown",
   "id": "97b366f4-8939-496a-a9e8-fb648558664c",
   "metadata": {},
   "source": [
    "## **B1: Entity Relationship Diagram (ERD)**"
   ]
  },
  {
   "cell_type": "code",
   "execution_count": 3,
   "id": "1726c4f7-999a-46b3-913f-76cdb1a6cc17",
   "metadata": {
    "tags": []
   },
   "outputs": [
    {
     "ename": "FileNotFoundError",
     "evalue": "[Errno 2] No such file or directory: 'erd.png'",
     "output_type": "error",
     "traceback": [
      "\u001b[0;31m---------------------------------------------------------------------------\u001b[0m",
      "\u001b[0;31mFileNotFoundError\u001b[0m                         Traceback (most recent call last)",
      "Cell \u001b[0;32mIn[3], line 7\u001b[0m\n\u001b[1;32m      4\u001b[0m image_path \u001b[38;5;241m=\u001b[39m \u001b[38;5;124m'\u001b[39m\u001b[38;5;124merd.png\u001b[39m\u001b[38;5;124m'\u001b[39m\n\u001b[1;32m      6\u001b[0m \u001b[38;5;66;03m# Display the image\u001b[39;00m\n\u001b[0;32m----> 7\u001b[0m Image(filename\u001b[38;5;241m=\u001b[39mimage_path)\n",
      "File \u001b[0;32m~/anaconda3/lib/python3.11/site-packages/IPython/core/display.py:970\u001b[0m, in \u001b[0;36mImage.__init__\u001b[0;34m(self, data, url, filename, format, embed, width, height, retina, unconfined, metadata, alt)\u001b[0m\n\u001b[1;32m    968\u001b[0m \u001b[38;5;28mself\u001b[39m\u001b[38;5;241m.\u001b[39munconfined \u001b[38;5;241m=\u001b[39m unconfined\n\u001b[1;32m    969\u001b[0m \u001b[38;5;28mself\u001b[39m\u001b[38;5;241m.\u001b[39malt \u001b[38;5;241m=\u001b[39m alt\n\u001b[0;32m--> 970\u001b[0m \u001b[38;5;28msuper\u001b[39m(Image, \u001b[38;5;28mself\u001b[39m)\u001b[38;5;241m.\u001b[39m\u001b[38;5;21m__init__\u001b[39m(data\u001b[38;5;241m=\u001b[39mdata, url\u001b[38;5;241m=\u001b[39murl, filename\u001b[38;5;241m=\u001b[39mfilename,\n\u001b[1;32m    971\u001b[0m         metadata\u001b[38;5;241m=\u001b[39mmetadata)\n\u001b[1;32m    973\u001b[0m \u001b[38;5;28;01mif\u001b[39;00m \u001b[38;5;28mself\u001b[39m\u001b[38;5;241m.\u001b[39mwidth \u001b[38;5;129;01mis\u001b[39;00m \u001b[38;5;28;01mNone\u001b[39;00m \u001b[38;5;129;01mand\u001b[39;00m \u001b[38;5;28mself\u001b[39m\u001b[38;5;241m.\u001b[39mmetadata\u001b[38;5;241m.\u001b[39mget(\u001b[38;5;124m'\u001b[39m\u001b[38;5;124mwidth\u001b[39m\u001b[38;5;124m'\u001b[39m, {}):\n\u001b[1;32m    974\u001b[0m     \u001b[38;5;28mself\u001b[39m\u001b[38;5;241m.\u001b[39mwidth \u001b[38;5;241m=\u001b[39m metadata[\u001b[38;5;124m'\u001b[39m\u001b[38;5;124mwidth\u001b[39m\u001b[38;5;124m'\u001b[39m]\n",
      "File \u001b[0;32m~/anaconda3/lib/python3.11/site-packages/IPython/core/display.py:327\u001b[0m, in \u001b[0;36mDisplayObject.__init__\u001b[0;34m(self, data, url, filename, metadata)\u001b[0m\n\u001b[1;32m    324\u001b[0m \u001b[38;5;28;01melif\u001b[39;00m \u001b[38;5;28mself\u001b[39m\u001b[38;5;241m.\u001b[39mmetadata \u001b[38;5;129;01mis\u001b[39;00m \u001b[38;5;28;01mNone\u001b[39;00m:\n\u001b[1;32m    325\u001b[0m     \u001b[38;5;28mself\u001b[39m\u001b[38;5;241m.\u001b[39mmetadata \u001b[38;5;241m=\u001b[39m {}\n\u001b[0;32m--> 327\u001b[0m \u001b[38;5;28mself\u001b[39m\u001b[38;5;241m.\u001b[39mreload()\n\u001b[1;32m    328\u001b[0m \u001b[38;5;28mself\u001b[39m\u001b[38;5;241m.\u001b[39m_check_data()\n",
      "File \u001b[0;32m~/anaconda3/lib/python3.11/site-packages/IPython/core/display.py:1005\u001b[0m, in \u001b[0;36mImage.reload\u001b[0;34m(self)\u001b[0m\n\u001b[1;32m   1003\u001b[0m \u001b[38;5;250m\u001b[39m\u001b[38;5;124;03m\"\"\"Reload the raw data from file or URL.\"\"\"\u001b[39;00m\n\u001b[1;32m   1004\u001b[0m \u001b[38;5;28;01mif\u001b[39;00m \u001b[38;5;28mself\u001b[39m\u001b[38;5;241m.\u001b[39membed:\n\u001b[0;32m-> 1005\u001b[0m     \u001b[38;5;28msuper\u001b[39m(Image,\u001b[38;5;28mself\u001b[39m)\u001b[38;5;241m.\u001b[39mreload()\n\u001b[1;32m   1006\u001b[0m     \u001b[38;5;28;01mif\u001b[39;00m \u001b[38;5;28mself\u001b[39m\u001b[38;5;241m.\u001b[39mretina:\n\u001b[1;32m   1007\u001b[0m         \u001b[38;5;28mself\u001b[39m\u001b[38;5;241m.\u001b[39m_retina_shape()\n",
      "File \u001b[0;32m~/anaconda3/lib/python3.11/site-packages/IPython/core/display.py:353\u001b[0m, in \u001b[0;36mDisplayObject.reload\u001b[0;34m(self)\u001b[0m\n\u001b[1;32m    351\u001b[0m \u001b[38;5;28;01mif\u001b[39;00m \u001b[38;5;28mself\u001b[39m\u001b[38;5;241m.\u001b[39mfilename \u001b[38;5;129;01mis\u001b[39;00m \u001b[38;5;129;01mnot\u001b[39;00m \u001b[38;5;28;01mNone\u001b[39;00m:\n\u001b[1;32m    352\u001b[0m     encoding \u001b[38;5;241m=\u001b[39m \u001b[38;5;28;01mNone\u001b[39;00m \u001b[38;5;28;01mif\u001b[39;00m \u001b[38;5;124m\"\u001b[39m\u001b[38;5;124mb\u001b[39m\u001b[38;5;124m\"\u001b[39m \u001b[38;5;129;01min\u001b[39;00m \u001b[38;5;28mself\u001b[39m\u001b[38;5;241m.\u001b[39m_read_flags \u001b[38;5;28;01melse\u001b[39;00m \u001b[38;5;124m\"\u001b[39m\u001b[38;5;124mutf-8\u001b[39m\u001b[38;5;124m\"\u001b[39m\n\u001b[0;32m--> 353\u001b[0m     \u001b[38;5;28;01mwith\u001b[39;00m \u001b[38;5;28mopen\u001b[39m(\u001b[38;5;28mself\u001b[39m\u001b[38;5;241m.\u001b[39mfilename, \u001b[38;5;28mself\u001b[39m\u001b[38;5;241m.\u001b[39m_read_flags, encoding\u001b[38;5;241m=\u001b[39mencoding) \u001b[38;5;28;01mas\u001b[39;00m f:\n\u001b[1;32m    354\u001b[0m         \u001b[38;5;28mself\u001b[39m\u001b[38;5;241m.\u001b[39mdata \u001b[38;5;241m=\u001b[39m f\u001b[38;5;241m.\u001b[39mread()\n\u001b[1;32m    355\u001b[0m \u001b[38;5;28;01melif\u001b[39;00m \u001b[38;5;28mself\u001b[39m\u001b[38;5;241m.\u001b[39murl \u001b[38;5;129;01mis\u001b[39;00m \u001b[38;5;129;01mnot\u001b[39;00m \u001b[38;5;28;01mNone\u001b[39;00m:\n\u001b[1;32m    356\u001b[0m     \u001b[38;5;66;03m# Deferred import\u001b[39;00m\n",
      "\u001b[0;31mFileNotFoundError\u001b[0m: [Errno 2] No such file or directory: 'erd.png'"
     ]
    }
   ],
   "source": [
    "from IPython.display import Image\n",
    "\n",
    "# Specify the path to your image file\n",
    "image_path = 'erd.png'\n",
    "\n",
    "# Display the image\n",
    "Image(filename=image_path)"
   ]
  },
  {
   "cell_type": "markdown",
   "id": "28703386-20a3-4129-8e6e-5d74d3b860e5",
   "metadata": {},
   "source": [
    "## **B2: Code for the ERD** "
   ]
  },
  {
   "cell_type": "raw",
   "id": "df220203-8878-4dd5-982b-fb4433947c3d",
   "metadata": {
    "tags": []
   },
   "source": [
    "CREATE TABLE public.services\n",
    "\n",
    "(\n",
    "    customer_id character varying(20) NOT NULL,\n",
    "    internetservice character varying(20) NOT NULL,\n",
    "    phone character varying(3) NOT NULL,\n",
    "    multiple character varying(3) NOT NULL,\n",
    "    onlinesecurity character varying(3) NOT NULL,\n",
    "    onlinebackup character varying(3) NOT NULL,\n",
    "    deviceprotection character varying(3) NOT NULL,\n",
    "    techsupport character varying(3) NOT NULL,\n",
    "    \n",
    "    PRIMARY KEY (customer_id)\n",
    ");\n",
    "\n",
    "ALTER TABLE public.services\n",
    "ADD CONSTRAINT fk_customer_id\n",
    "FOREIGN KEY (customer_id)\n",
    "REFERENCES public.customer (customer_id)\n",
    "ON UPDATE NO ACTION\n",
    "ON DELETE NO ACTION;\n",
    "\n",
    "ALTER TABLE public.services\n",
    "OWNER TO postgres;"
   ]
  },
  {
   "cell_type": "markdown",
   "id": "03562512-0c13-4393-bbc2-86274118c7a0",
   "metadata": {},
   "source": [
    "Entity-Relationship Diagram (ERD) is an essential tool that provides a visual starting point for a database design; it is a basic design upon which the database is built. According to Vertabelo, ERDs “specify what data we will store: the entities and their attributes. They also show how entities relate to other entities (Team, 2021).” The ERD above effectively shows the many-to-many(m:n) relationships between entities, as demonstrated by the connection between 'customers' and 'cervices.' This feature is important for modeling situations where one entity is connected with multiple entries from another.\n",
    "\n",
    "The ERD also enforces relational constraints, such as primary and foreign keys. By implementing these constraints, it helps us to maintain data integrity. For instance, 'customer_id' is the primary key in the 'customers' table, guaranteeing each customer record has a unique identifier. Foreign keys in the 'cervices' table maintain links to the 'customers' table, preserving the relationships between customers and their chosen services. This tool is valuable in the initial design of our database and serves as an ongoing reference for database management, ensuring organized, reliable, and well-structured data. \n"
   ]
  },
  {
   "cell_type": "markdown",
   "id": "20e2bfe6-a1d6-425e-8570-fbf66222c751",
   "metadata": {},
   "source": [
    "## **B3: Loading CSV Data**"
   ]
  },
  {
   "cell_type": "raw",
   "id": "927f7164-7305-4ab7-a683-45512e84b837",
   "metadata": {},
   "source": [
    "-- command * *\\\\copy.public.services(customer_id, internetservice, phone, multiple, onlinesecurity, onlinebackup, deviceprotection, techsupport) FROM 'C/LabFiles/Services.csv' DELIMITER\", CSV HEADER QUOTE'\\\"ESCAPE\",\""
   ]
  },
  {
   "cell_type": "markdown",
   "id": "c198592c-e204-4c26-8632-47a32399dd24",
   "metadata": {},
   "source": [
    "The script above was generated from pgAdmin using a Graphical User Interface (GUI) tool. Instead of manually writing a SQL query, I used a GUI tool to assist in the process of creating a database table, defining its columns and their data types, and fulfilling other database-related tasks. While there are benefits to manually writing SQL queries, two advantages of using the GUI tool were to make the process more efficient and reduce the risk of errors or syntax mistakes. \n",
    "Moreover, after configuring the tables’s structure and data within the GUI, I could import data from a CSV file into this newly created table. Notably, the SQL code used for data import included the 'COPY' command, which confirmed the successful data transfer. The SQL code, which uses the 'COPY' command, specifies the file location, delimiter, and header information. This process keeps our data up-to-date and relevant for business analysis.\n"
   ]
  },
  {
   "cell_type": "markdown",
   "id": "2576f50a-edb9-48e8-aa39-77b544fe69c7",
   "metadata": {
    "tags": []
   },
   "source": [
    "## **C1: SQL Query**"
   ]
  },
  {
   "cell_type": "raw",
   "id": "f08c0268-ec64-4fbd-a2a6-f12958d47378",
   "metadata": {
    "tags": []
   },
   "source": [
    "SELECT *\n",
    "\n",
    "FROM(\n",
    "SELECT \n",
    "\tSUM(CASE WHEN c.marital = 'Married' AND s.internetservice = 'DSL' THEN 1 END) AS dsl_Count,\n",
    "\tSUM(CASE WHEN c.marital = 'Married' AND s.internetservice = 'Fiber Optic' THEN 1 END) AS fiberoptic_Count,\n",
    "\tSUM(CASE WHEN c.marital = 'Married' AND s.phone = 'Yes' THEN 1 END) AS phone_count,\n",
    "\tSUM(CASE WHEN c.marital = 'Married' AND s.multiple = 'Yes' THEN 1 END) AS multiple_count,\n",
    "\tSUM(CASE WHEN c.marital = 'Married' AND s.techsupport = 'Yes' THEN 1 END) AS techsupport_count,\n",
    "\tSUM(CASE WHEN c.marital = 'Married' AND s.onlinesecurity = 'Yes' THEN 1 END) AS onlinesecurity_count,\n",
    "\tSUM(CASE WHEN c.marital = 'Married' AND s.onlinebackup = 'Yes' THEN 1 END) AS onlinebackup_count,\n",
    "\tSUM(CASE WHEN c.marital = 'Married' AND s.deviceprotection = 'Yes' THEN 1 END) AS deviceprotection_count\n",
    "\n",
    "FROM public.customer AS c\n",
    "\n",
    "JOIN public.services AS s ON c.customer_id = s.customer_id\n",
    ")AS SubQuery"
   ]
  },
  {
   "cell_type": "markdown",
   "id": "783460f5-1ae8-497f-8725-ea6dbcc536f4",
   "metadata": {},
   "source": [
    "The provided SQL query aims to analyze the preferences of married customers for various telecommunications services, which is crucial for customer retention in the telecommunications industry. The query calculates the count of married customers subscribing to different services, including DSL, fiber optic, phone, multiple lines, tech support, online security, online backup, and device protection. \n",
    "\n",
    "The process involves data processing and SQL joins, where \"yes\" responses in the service columns are counted to determine service popularity. In the case of internet service, the query identifies the type of service (DSL or fiber optic) used by married customers. The join operation links the \"customer\" and \"services\" tables using the \"customer_id\" field, allowing the calculation of service counts among married customers. \n"
   ]
  },
  {
   "cell_type": "markdown",
   "id": "bd4e252a-c3f7-4345-a00a-6a3d42a23d6f",
   "metadata": {},
   "source": [
    "## **C2: CSV Files**\n",
    "[_See the link attached_](path/to/D-205%20CSV%20File.csv)"
   ]
  },
  {
   "cell_type": "markdown",
   "id": "b44bc3fb-46df-442b-957a-8722177a97f1",
   "metadata": {},
   "source": [
    "## **D: Add-On File / Explanation of the Time Period** \n",
    "It is evident that customer preferences and behaviors within the telecommunications industry can change over time. This fluctuation can be influenced by factors such as market trends, promotional activities, and changing customer needs. I recommend periodically updating the add-on file to the database to maintain data relevance for our business goals and effectively address the research question. \n",
    "\n",
    "The choice of the update schedule should match the rate at which the industry and customer preferences evolve. I suggest updating the database using the add-on file every quarter. This frequency balances staying responsive to shifting customer behaviors and the practical aspects of handling and integrating new data. Quarterly updates will help telecommunications companies quickly adjust to changing trends and make informed decisions that benefit our efforts to retain customers. \n"
   ]
  },
  {
   "cell_type": "markdown",
   "id": "73d24211-08ed-495f-b470-deb787bd76bd",
   "metadata": {},
   "source": [
    "## **E: Panopto Video of Code**"
   ]
  },
  {
   "cell_type": "markdown",
   "id": "c0ad2581-804b-4852-8649-b34262af2847",
   "metadata": {},
   "source": [
    "## **F: Web Sources** \n",
    "- Team, V. (2021, February 19). Why do you need an ER diagram?. Vertabelo Data Modeler. https://vertabelo.com/blog/why-need-an-er-diagram/#:~:text=An%20entity%2Drelationshi p%20diagram%2C%20or,entities%20relate%20to%20other%20entities."
   ]
  }
 ],
 "metadata": {
  "kernelspec": {
   "display_name": "Python 3 (ipykernel)",
   "language": "python",
   "name": "python3"
  },
  "language_info": {
   "codemirror_mode": {
    "name": "ipython",
    "version": 3
   },
   "file_extension": ".py",
   "mimetype": "text/x-python",
   "name": "python",
   "nbconvert_exporter": "python",
   "pygments_lexer": "ipython3",
   "version": "3.11.5"
  }
 },
 "nbformat": 4,
 "nbformat_minor": 5
}
