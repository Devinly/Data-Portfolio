{
 "cells": [
  {
   "cell_type": "markdown",
   "id": "37dd8ecd-fd7a-4e18-adba-e6a637e512cb",
   "metadata": {},
   "source": [
    "# **D206 Data Cleaning Performance Assessment**\n",
    "\n"
   ]
  },
  {
   "cell_type": "markdown",
   "id": "bc144bf9-3cba-4c35-bf05-56ad23d36e83",
   "metadata": {
    "tags": []
   },
   "source": [
    "## **Part I: Research Question and Variables** \n",
    "\n",
    "### **A: Research Question** \n",
    "\n",
    "My research question is, “What factors influence customer churn in the telecommunications industry?” This question examines how different elements affect a customer’s decision to switch from one provider to another. By understanding these factors, companies will be better able to create and implement effective retention strategies. The primary focus of this study is to clean an entire dataset to ensure data quality and prepare it for future analysis. "
   ]
  },
  {
   "cell_type": "markdown",
   "id": "5d1acd7c-9cc4-4f6d-9414-79b812afcd56",
   "metadata": {
    "tags": []
   },
   "source": [
    "### **B: List of Variables** \n",
    "\n",
    "This dataset has 50 columns, each representing variables related to customer information and service details. I have split them into six distinct groups: Customer identifier data, demographic data, churn-related data, customer account data,  services, and customer satisfaction survey responses. A summary of key variables is provided:\n",
    "\n",
    "#### **Customer Identifier Data:** \n",
    "\n",
    "- CaseOrder (Quantitative): Example: Row 1 - 1  \n",
    "  Description: Index serving as a data ordering reference for all rows\n",
    "\n",
    "- Customer_id (Qualitative): Example: Row 1 - K409198  \n",
    "  Description: Unique identifier for each customer\n",
    "\n",
    "- Interaction, UID (Qualitative): Example: Row 1 - aa90260b-4141-4a24-8e36-b04ce1f4f77b  \n",
    "  Description: Unique identifier associated with customer transactions, technical support, and sign-ups\n",
    "\n",
    "#### **Demographic Data:** \n",
    "\n",
    "- City, State, County, Zip (Qualitative): Example: Row 1 -  Point Baker, AK, Prince of Wales-Hyder, 99927  \n",
    "Description: Residence location of customer\n",
    "\n",
    "- Lat, Lng (Quantitative):\n",
    "Example: Row 1 - Latitude: 56.25100, Longitude: -133.37571\n",
    "Description: GPS coordinates of  customer's residence\n",
    "\n",
    "- Population (Quantitative): Example: Row 1 - 38  \n",
    "Description: Population within a mile radius of the customer's residence\n",
    "\n",
    "- Area (Qualitative): Example: Row 1 - Urban  \n",
    "Description: Whether the residence lives in a rural, suburban, or urban area\n",
    "\n",
    "- Timezone (Qualitative): Example: Row 1 - America/Sitka  \n",
    "Description: Customer's timezone\n",
    "\n",
    "- Job (Qualitative): Example: Row 1 - Environmental health practitioner  \n",
    "Description: Job of the customer or invoiced person \n",
    "\n",
    "- Children (Quantitative): Example: Row 1 - NaN (not a number)  \n",
    "Description: Number of children within the customer’s household\n",
    "\n",
    "- Age (Quantitative): Example: Row 1 - 68.0  \n",
    "Description: Age of the customer reported in the sign-up information\n",
    "\n",
    "- Education (Qualitative): Example: Row 1 - Master’s Degree  \n",
    "Description: Highest degree earned by a customer\n",
    "\n",
    "- Employment (Qualitative): Example: Row 1 - Part Time  \n",
    "Description: Current employment status of the customer\n",
    "\n",
    "- Income (Quantitative): Example: Row 1 - 28561.99  \n",
    "Description: Annual income of the customer reported at the time of sign-up\n",
    "\n",
    "- Marital, Gender (Qualitative): Example: Row 1 - Widowed, Male  \n",
    "Description: Marital status and gender of the customer\n",
    "\n",
    "#### **Churn Related Data:** \n",
    "\n",
    "- Churn (Qualitative):\n",
    "Example: Row 1 - No    \n",
    "Description: Indicates whether the customer has discounted service within the last month \n",
    "\n",
    "- Outage_sec_perweek, Email, Contacts, Yearly_equip_failure (Quantitative): Example: Row 1 - 6.972566, 10, 0, 1  \n",
    "Description: Average weekly system outage duration, number of marketing emails, contacts with technical support, yearly equipment failures\n",
    "\n",
    "#### **Customer Account Information:** \n",
    "\n",
    "- Contract, Techie, PaymentMethod (Qualitative): Example: Row 1 - One Year, No, Credit Card (automatic)  \n",
    "Description: Customer's contract term, technical inclination, and payment method\n",
    "\n",
    "- Tenure (Quantitative): Example: Row 1 - 6.795513  \n",
    "Description: Number of months the customer has stayed with the provider\n",
    "\n",
    "- MonthlyCharge (Quantitative): Example: Row 1 - 171.449762  \n",
    "Description: Monthly payment\n",
    "\n",
    "- Bandwidth_GB_Year (Quantitative): Example: Row 1 - 904.536110  \n",
    "Description: Average data used in GB in a year\n",
    "\n",
    "#### **Customer Services:** \n",
    "\n",
    "\n",
    "- Port_modem, Tablet, InternetService, Phone (Qualitative): Example: Row 1 - Port_modem - Yes, Tablet - Yes, InternetService - Fiber Optic, Phone - Yes  \n",
    "Description: Presence of a portable modem, tablet ownership, internet service provider, and phone service.\n",
    "\n",
    "- Multiple, OnlineSecurity, OnlineBackup, DeviceProtection, TechSupport, StreamingTV, StreamingMovies, PaperlessBilling (Qualitative): Example: Row 1 - Multiple - No, OnlineSecurity - Yes, OnlineBackup - Yes, DeviceProtection - No, TechSupport - No, StreamingTV - No, StreamingMovies - Yes, PaperlessBilling - Yes  \n",
    "Description: Subscription status for various services (e.g., multiple lines, online security, streaming TV).\n",
    "\n",
    "#### **Customer Satisfaction Rating Survey Responses (Qualitative):** \n",
    "\n",
    "- Item1 to Item8 (Qualitative): Example: Row 1 - Item1 - 5, Item2 - 5, ..., Item8 - 4  \n",
    "Description: Rating survey responses on a scale of 1 to 8 where “1” is most important and “8” is least important.\n"
   ]
  },
  {
   "cell_type": "markdown",
   "id": "8ad206af-bdfc-4791-b2b5-6dbb88521e58",
   "metadata": {},
   "source": [
    "## **Part II: Data-Cleaning Plan and Detection** "
   ]
  },
  {
   "cell_type": "markdown",
   "id": "1c5ba7b4-bc65-4322-ae86-c7c317b7b4e9",
   "metadata": {},
   "source": [
    "### **C1. Discuss Detection Methods** \n",
    "\n",
    "In Jupyter Notebook, I will import the dataset from a CSV file and create a path to form a data frame. Alongside my CSV file, I will reference the provided data dictionary. To begin the initial exploration of my data, I will briefly inspect all columns and sample rows to assess their structure and identify any obvious anomalies. I will do this using the info() function, which provides information about column names, non-null values, and data types. Furthermore, I will generate a numerical summary of the quantitative variables using the describe() function for a quick overview.\n",
    "\n",
    "After reviewing the entire dataset, I will analyze each column to inspect it for irregularities and unexpected values. To achieve this, I will use the value_counts() function to evaluate the suitability of categorical data types. I will evaluate if any of my categorical variables need to be re-expressed. I will do this by looking at how different groups are shown in the dataset. I will examine how specific labels are used for each group and how they are coded.  Furthermore, for columns requiring unique data, such as customer_id, validity will be confirmed if the sum of unique values equals the total number of entries in the column.\n",
    "Next, I will identify duplicates and missing values, which is a straightforward process. I will use the duplicated() function and print the results and their corresponding value counts to determine the presence of duplicates in my dataset. \"False\" counts indicate no duplicates, while \"True\" counts indicate duplicates present. The isnull() function finds instances of Nan, null, and None values within the dataset and will calculate the number of missing values in each column. Expanding on this, I will also write a code to display the sum of missing values within the entire dataset.\n",
    "\n",
    "Finally, I will focus on the quantitative variables within my data and use outlier detection methods, like IQR and boxplots, to detect outliers. I will look at each column’s summary statistics to help me identify the upper and lower bounds. From there, I will identify variables outside of those bounds. These are my outliers. I will couple this with the use of boxplots to verify my calculations. It will also serve as a visual tool to quickly identify outliers.  I will use the Seaborn library to create boxplots. \n",
    "\n",
    "### **C2. Justify Detection Methods** \n",
    "\n",
    "Importing the dataset and referencing the data dictionary is important to understanding the dataset’s structure. During the beginning steps of detection, it is important to briefly inspect the dataset and use the info() function to identify any initial issues. Furthermore, generating a numerical summary helps to identify anomalies and helps to build a greater understanding of the statistical characteristics of the data.\n",
    "\n",
    "Carefully looking at each column and using functions like value_counts helps spot mistakes and check if the data is properly formatted. Confirming unique data, like in the Customer_id column, makes the analysis more trustworthy.Moreover, while identifying duplicates and missing values, I made the deliberate choice to leverage the duplicated() and isnull() function over utilizing visualization techniques. This decision to forego visualization for these specific tasks and to use these functions  aligns with the characteristics of the data being assessed and is rooted in practical considerations of efficiency, simplicity, and transparency. \n",
    "\n",
    "The duplicated() function has the capability to efficiently identify and handle duplicates within a dataset.  I used this function to find repeated information, which was especially important for columns like CaseOrder, where each row needed to be unique. By detecting duplicates using the duplicated() function, it helps to maintain data integrity, prevent biases, and maintain the accuracy of the analysis. The isnull() function was used to find values that were missing within the data. This approach ensures that I don’t miss any empty values and is crucial for making decisions about what to do with the missing information. Assessing the completeness of the dataset using the isnull() function is important because it helps with making informed decisions during the data cleaning process. It is needed in order to prevent biased conclusions and ensure analyses are being based on a complete and representative dataset. \n",
    "\n",
    "Regarding outlier detection, boxplots and a simple statistical formula were used to identify outliers. I will use both methods during this phase because it is an extra way to verify that I am identifying the outliers correctly. While I originally planned to calculate a z-score, I felt the statistical formula was easier to navigate and understand. It is also a reliable way to identify outliers. \n",
    "\n",
    "### **C3. Programming Language and Libraries** \n",
    "\n",
    "I choose Python over R for data cleaning because it's multifaceted, widely used, and has many useful libraries. The WGU website argues that Python has a greater ease of learning because of its consistent syntax, stating, “The consistent syntax of Python makes learning new packages and modules a straightforward task” (R or Python, 2023). This is one of the main reasons why I chose to use Python. The libraries I will use within Python are pandas, matplotlib, seaborn, and NumPy. Pandas, the primary library, has powerful data manipulation capabilities. Furthermore, the NumPy library will help calculate the Z-score, and Matplotlib and Seaborn will be used to create visualizations. These libraries’ combinations will help make the data-cleaning process smooth and effective. Each library will play a specific role in addressing different data quality issues (Ramuglia, 2023).\n",
    "\n",
    "### **C4. Detection Code** \n",
    "\n",
    "[_See code attached_](D-206%20Detection%20Code.ipynb)"
   ]
  },
  {
   "cell_type": "markdown",
   "id": "670c4489-3bab-49fe-9c6c-5eb47dbfacae",
   "metadata": {},
   "source": [
    "## **Part III: Data Cleaning Process (Treatment)** \n",
    "\n",
    "### **D1. Summary of Findings** \n",
    "\n",
    "The analysis shows that several issues must be addressed to make the data more reliable.\n",
    "\n",
    "- The \"Unnamed: 0\" column lacks meaningful information and is not in the data dictionary. It can be deleted because it already has redundant information in the ‘CaseOrder” column. \n",
    "- The columns “MonthlyCharge,” “Outage_per_week,” and “Bandwidth_GB_year” have excessive amounts of decimal places. \n",
    "- There are missing values in the following columns: Children- 2495, Age- 2475, Income- 2490, Techie- 2477, InternetService- 2129, Phone- 1026, TechSupport- 991, Tenure, and Bandwidth_GB_year- 1021. There are 16035 total missing values. \n",
    "- The values within the \"Gender\" column do not match the data dictionary.  \n",
    "- The “Zip” column is represented as numerical data (int64) when it is a categorical variable.\n",
    "- The column “Tenure” is a float64 datatype. It would be better to convert it to an integer type to represent the number of months. \n",
    "- The column “PaymentMethod” is represented as an object datatype. Because it has distinct categories without an inherent order, it should be changed to a categorical datatype.\n",
    "- The columns “Children” and “Age” are represented as float64, allowing decimals. The number of children and age is typically seen as a whole number. Therefore, it should be changed to an integer. \n",
    "- Variables such as  Area, TimeZone, Job, Education, Employment, Marital, Gender, and PaymentMethod are represented as objects. However, they should be converted to the categorical data type because they are categorical data types. \n",
    "- There are outliers present in the following columns: Population- 937, Children- 451, Income- 759, Outage- 539, Email - 38, Contacts-8, Yearly Equip - 94, MonthlyCharge - 5, Item1- 442, Item2- 445, Item3- 418, Item4- 433, Item5 - 422, Item6- 413, Item7 - 454, Item8 - 426, Lat - 158, and Lng - 273.\n",
    "\n",
    "Finally, while exploring my dataset, I observed the presence of categorical variables that did not require re-expression. The initial observation showed that these variables were already represented in a format suitable for analysis. They were already in clear and meaningful categories that did not need further encoding or re-expression. Therefore, I did not change these variables because their original format aligns with the nature of the data. \n",
    "\n",
    "\n",
    "### **D2. Treatment Plan** \n",
    "Regarding missing values within the data, I will not delete any data because there are not enough missing values in my columns or rows. The common principle for missing values is that you only delete columns if nulls are present for more than 60%, and you only remove rows if null values are over 5% of all observations (Middleton, 2023). Instead, I will use the imputation method to fill in the missing data and to preserve my dataset. I will first examine the distribution by creating histograms using the matplotlib library to do this. Depending on the distribution type, I will choose the correlating code for imputation. For example, if the distribution is normal or uniform, I will use the mean; if it is skewed, I will use the median. Furthermore, for categorical or nominal variables, I'll use the mode. After imputation, I will check to ensure missing values are filled in, and the new distribution is similar to the original one. Doing this verifies that missing values are handled, and the overall distribution is consistent. \n",
    "\n",
    "Regarding outliers, I will first examine the range of values of outliers within the dataset to determine if these values are acceptable or outside the reasonable range. I must determine the number of outliers within my dataset. For values that are accepted or expected, I will retain them. For values that are not, I will use the imputation method. I will replace the outliers with the NaN(null) function and then use the fillna function to impute with the median. For example, the columns item1, item2…, and item8 had several outliers. I decided not to impute these values and to keep them the same because they may represent meaningful and diverse opinions rather than errors. Therefore, outliers, in this case, may represent particularly strong or unique views of a customer. By retaining these values, I stay true to the nature of the survey and recognize that each survey response holds significance, even if it falls outside the typical range. I also retained outliers in the \"Children\" column. The consideration of the diversity of family sizes guided this decision. I felt that imputing or deleting outliers would hinder the realistic expectations of various households. Additionally, these extreme values could aid in targeted marketing or specific analyses. \n",
    "\n",
    "Moreover, I have additional areas to be cleaned. The \"Unnamed: 0\" column will be deleted because it lacks meaningful information and is not found in the data dictionary. The columns \"MonthlyCharge,\" \"Outage_per_week,\" and \"Bandwidth_GB_year\" will be formatted to round to the hundredth decimal place. The \"Gender\" column has values that do not match the data dictionary. For consistency, the values labeled \"prefer not to answer'' will be changed to \"nonbinary.\" The columns ``Tenure,\"\"Children,\" and\"Age \" will be converted to an integer datatype. Finally, I will change the columns \"Zip,\" Area,\" \"TimeZone,\" \"Job,\" \"Education,\" \"Employment,\" \"Marital,\" \"Gender,\" and \"PaymentMethods\" to categorical data types. These data-cleaning tasks will be done using Python code.\n",
    "\n",
    "\n",
    "### **D3. Summary of the Outcomes** \n",
    "The steps taken to clean the data had concrete results that improved the quality and reliability of the dataset. Notably, the deletion of the \"Unnamed: 0\" column made the dataset cleaner. It eliminated redundant information and aligned with the data dictionary. The reformatting of the columns, “MonthlyCharge,” “Outage_per_week,” and “Bandwidth_GB_year,” addressed the concerns about excessive decimals. By reducing the decimal place to the hundredths, it helped to make the dataset more precise. \n",
    "\n",
    "Handling the missing values by first identifying the distribution and then using the imputation method, led to crucial information from the dataset being retained. The verification step, which was maintaining the overall distribution consistency, was a way to confirm that the missing values were appropriately filled. This ensured that value data was preserved, contributing to a stronger dataset. \n",
    "\n",
    "Regarding outliers, the imputation method was used on the majority of the columns like “Population,” “Contact,” and “Income.” The outliers in the columns “Items1” - “Items8” were left to show the diverse opinions of the customers. The outliers in the “Children” column were also left in order to keep the realistic expectations of customers’ households. By doing a close examination on whether to change the outliers or not, extreme values were able to be recognized while also keeping the dataset trustworthy. \n",
    "\n",
    "Finally, multiple columns like “Tenure,” “Children,” and “Age” were changed to integer data types to make them easier to understand and to align more to their inherent nature.  \"Zip,\" \"Area,\" \"TimeZone,\" and others, were successfully transformed into categorical data types, reflecting the categorical nature of the data and making it easier to analyze the data. \n",
    "All of the data cleaning was done using Python code. By doing this, it ensures consistency and makes it easier to reproduce the process. Overall, all the steps taken have made the data set more reliable and easier to understand for further analysis. \n",
    "\n",
    "### **D4. Treatment Code**  \n",
    "\n",
    "[_See the code attached_](D-206%20Treatment%20Code.ipynb)\n",
    "\n",
    "### **D5. Clean Data File**\n",
    "[_See the file attached_](D-206%20Cleaned%20Data.csv)\n",
    "\n",
    "### **D6. Limitations** \n",
    "While I do believe that the data cleaning process that I have chosen has greatly improved the data set, it is important to address its limitations. One limitation is in regards to the imputation method used for handling missing values. Replacing values relies on statistical measures like mean, median, and mode. This means this method may not always be reliable when the distribution is highly skewed or has unusual values. Also, choosing to preserve the dataset and not deleting any data can lead to other complications. Replacing missing values makes assumptions about what those values should be, which does not always align with the true characteristics of the data. \n",
    "Regarding the treatment of outliers, I decided to replace them with NaN and then fill them with the median. This is a reasonable method, but it also has its limitations. \n",
    "\n",
    "This method does not always show the full picture of the data, especially if it has complex patterns. Replacing outliers in this way might make us think the data is more or less significant than it is. Additionally, I chose to retain certain columns within my data set. Retaining these outliers may have an impact on the overall statistical measures. For example, I made the decision to retain outliers within the survey response columns, and while I did this to preserve the diverse opinions of the customers, it also introduces a challenge in interpreting summary statistics accurately. Outliers can disproportionately influence measure and can potentially skew results. \n",
    "Furthermore, while using the isnull() and duplicated() functions for identifying missing values and duplicates is efficient, itn may miss subtle details that advanced visualization could show. The decision to not use visualization reflects a trade-off between efficiency and a more nuanced understanding of the data. \n",
    "\n",
    "### **D7: Impact of Limitations** \n",
    "The limitations in the data cleaning process can have implications for the validity of my findings in the context of my research question, which aims to understand the factors influencing customer churn in the telecommunications industry. \n",
    "The first impact of limitation is in regards to the imputation method for handling missing values. The impact of this is that bias may be introduced if the distribution of missing values do not align with the assumptions of the statistical measures. In the context of customer churn, biased imputation can lead to distorting insights and could affect pattern identification.\n",
    "\n",
    "The second impact of limitation is in regards to handling outliers. Retaining outliers can influence the analysis of customer opinion and household characteristics, which may not be representative of the whole. This could potentially skew the understanding of churn factors.\n",
    "The third impact of limitation is in regards to changing of data types. While I do think that changing data types were beneficial in this assignment, that might not always be the case. Depending on the specific analysis, the choice of data type might affect the insights gained. Furthermore, incorrectly formatted data may lead to misinterpretations of customer characteristics, which can impact the understandings of customer churn.Next, choosing to forego visualization can limit the ability to explore complex relationships within the data set. Visualization can show insights that are not alwaysseen with statistical measures. \n",
    "\n",
    "Finally, the last impact of limitation is in regards to the choice of the imputation method based on the distribution type. When we replace values, we assume that the data will have a certain pattern. However, if the data doesn’t follow that expected pattern, then our approach might not give us the correct information about the variables related to churn. This could affect the over understanding. Overall, understanding the impact of these limitations is vital for interpreting analysis results.\n"
   ]
  },
  {
   "cell_type": "markdown",
   "id": "b434be60-bcd9-4f64-b4a3-514390794924",
   "metadata": {},
   "source": [
    "## **Part IV: Principal Component Analysis (PCA)**\n",
    "\n",
    "### **E1:List of Principal Components** \n",
    "The continuous variables used in the Principal Component Analysis (PCA) for this dataset are Lat, Lng, Population, Income, Outage_sec_perweek, Tenure, MonthlyCharge, and Bandwith_GB_Year.  Continuous quantitative variables are required to perform an effective PCA.  Below is the PCA loadings matrix."
   ]
  },
  {
   "cell_type": "code",
   "execution_count": 22,
   "id": "50632f37-ca41-4cbc-928f-441fbdb1102b",
   "metadata": {
    "tags": []
   },
   "outputs": [],
   "source": [
    "import pandas as pd\n",
    "from sklearn.decomposition import PCA\n",
    "import seaborn as sns\n",
    "import matplotlib.pyplot as plt\n",
    "\n",
    "# Load the cleaned data\n",
    "df_cleaned = pd.read_csv('cleaned_data.csv')"
   ]
  },
  {
   "cell_type": "code",
   "execution_count": 23,
   "id": "389ea555-5f75-43a6-9cd7-b7388825641b",
   "metadata": {
    "tags": []
   },
   "outputs": [
    {
     "name": "stdout",
     "output_type": "stream",
     "text": [
      "                         PC1       PC2       PC3       PC4       PC5  \\\n",
      "Lat                -0.023268  0.638485  0.106523  0.036828  0.025854   \n",
      "Lng                 0.008981 -0.496919  0.054428  0.147996 -0.190987   \n",
      "Population          0.002364 -0.577538  0.012487  0.043783  0.082031   \n",
      "Income              0.008711  0.084275  0.223000  0.902168 -0.299315   \n",
      "Outage_sec_perweek  0.016864 -0.008512  0.651030 -0.396319 -0.634855   \n",
      "Tenure              0.705171  0.017702 -0.059796 -0.003134 -0.028737   \n",
      "MonthlyCharge       0.045437 -0.064407  0.713013  0.061870  0.680165   \n",
      "Bandwidth_GB_Year   0.706881  0.014906 -0.001686 -0.003327  0.006785   \n",
      "\n",
      "                         PC6       PC7       PC8  \n",
      "Lat                -0.112518 -0.752172  0.001199  \n",
      "Lng                -0.776614 -0.297524  0.000585  \n",
      "Population          0.576942 -0.569889  0.002696  \n",
      "Income              0.164373  0.112143 -0.001507  \n",
      "Outage_sec_perweek  0.122317  0.024911 -0.010594  \n",
      "Tenure              0.005609 -0.018361 -0.705436  \n",
      "MonthlyCharge      -0.096633  0.085687 -0.047616  \n",
      "Bandwidth_GB_Year  -0.000094 -0.008240  0.707085  \n"
     ]
    }
   ],
   "source": [
    "# Step 1: Select Continuous Variables for PCA [In text ciation: (Middleton,2023)] * WGU COURSE MATERIAL\n",
    "continuous_columns = ['Lat', 'Lng', 'Population', 'Income', 'Outage_sec_perweek', 'Tenure', 'MonthlyCharge', 'Bandwidth_GB_Year']\n",
    "df_pca = df_cleaned[continuous_columns]\n",
    "\n",
    "# Step 2: Normalize the Data\n",
    "df_pca_normalized = (df_pca - df_pca.mean()) / df_pca.std()\n",
    "\n",
    "# Step 3: Initialize PCA\n",
    "pca = PCA(n_components=df_pca.shape[1])\n",
    "\n",
    "# Step 4: Fit PCA\n",
    "pca.fit(df_pca_normalized)\n",
    "\n",
    "# Step 5: Transform Data and Create df\n",
    "df_pca_result = pd.DataFrame(pca.transform(df_pca_normalized), columns=[f'PC{i+1}' for i in range(df_pca_normalized.shape[1])])\n",
    "\n",
    "# Step 6: Generate Loadings DataFrame\n",
    "pca_loadings = pd.DataFrame(pca.components_.T, columns=[f'PC{i+1}' for i in range(df_pca_normalized.shape[1])], index=continuous_columns)\n",
    "\n",
    "# Step 7: Print Component Loadings\n",
    "print(pca_loadings)"
   ]
  },
  {
   "cell_type": "markdown",
   "id": "795c5e6b-1614-4c52-9bc5-dfc9665cebbe",
   "metadata": {},
   "source": [
    "### **E2. Retention of Principal Components**\n",
    "I used the Kaiser rule and the scree plot to determine which principal components should be retained. The Kaiser rules state that principal components with eigenvalues equal to greater than one should be retained. My analysis showed that the first four components met that criteria. The values were approximately 1.90, 1.20, 1.04, and 1.00, respectively. This means that these were considered significant. Regarding the scree plot, I used a visualization tool within the matplotlib library to identify different plots on the graph. Eigenvalues on or above the level 1.00 were considered significant. Therefore, the first four principal components (PC1, PC2, PC3, and PC4) were retained based on both methods. These capture the most meaningful information within the dataset."
   ]
  },
  {
   "cell_type": "code",
   "execution_count": 25,
   "id": "b64afd43-63f3-4cd9-aef5-8893a5ef8956",
   "metadata": {
    "tags": []
   },
   "outputs": [
    {
     "data": {
      "image/png": "[encoded data removed]",
      "text/plain": [
       "<Figure size 1000x500 with 1 Axes>"
      ]
     },
     "metadata": {},
     "output_type": "display_data"
    }
   ],
   "source": [
    "import numpy as np\n",
    "\n",
    "# Get the covariance matrix\n",
    "covariance_matrix = np.dot(df_pca_normalized.T, df_pca_normalized) / df_pca_normalized.shape[0]\n",
    "\n",
    "# Calculate eigenvalues\n",
    "eigenvalues = [np.dot(eigenvector.T, np.dot(covariance_matrix, eigenvector)) for eigenvector in pca.components_]\n",
    "\n",
    "# Plot the scree plot\n",
    "plt.figure(figsize=[10, 5])\n",
    "plt.plot(eigenvalues, marker='o')\n",
    "plt.xlabel('# of Components')\n",
    "plt.ylabel('Eigenvalues')\n",
    "plt.title('Scree Plot')\n",
    "plt.axhline(y=1, color='red', linestyle='--', label='Eigenvalue = 1')\n",
    "plt.legend()\n",
    "plt.show()"
   ]
  },
  {
   "cell_type": "code",
   "execution_count": 27,
   "id": "44524579-88d1-4b74-95cf-8cef8e173b33",
   "metadata": {
    "tags": []
   },
   "outputs": [
    {
     "data": {
      "text/plain": [
       "[1.8964037320004477,\n",
       " 1.1998367104398935,\n",
       " 1.0367536632758256,\n",
       " 1.0042378978175035,\n",
       " 0.9614401482882009,\n",
       " 0.9410915731145371,\n",
       " 0.8555910267657887,\n",
       " 0.10384524829778273]"
      ]
     },
     "execution_count": 27,
     "metadata": {},
     "output_type": "execute_result"
    }
   ],
   "source": [
    "eigenvalues"
   ]
  },
  {
   "cell_type": "markdown",
   "id": "7b34ae51-f7fa-40a3-a836-1f42f52d7c22",
   "metadata": {},
   "source": [
    "### **E3. Benefits of PCA**\n",
    "Organizations can benefit in several ways from the results of PCA. According to Bigabid, organizations benefit by reducing the number of variables we must consider (What is Principal Component Analysis (PCA) & How to use it?, 2023). It also cleans up our data by reducing unnecessary details, making our results more reliable. It can help us see our data in a way that is easy to understand. Because it helps us find patterns and groups, it can help us make sense of the data and find important trends. Another way it helps is by making data simpler for machine learning models to understand. In return, this simplification improves how models work and makes them faster. "
   ]
  },
  {
   "cell_type": "markdown",
   "id": "29e0dce8-9a5c-455a-ac58-d55aa77d7d34",
   "metadata": {
    "tags": []
   },
   "source": [
    "## **Part V: Supporting Documents**\n",
    "\n",
    "### **F. Panopto Video** \n",
    "\n",
    "### **G. Third-Party Code References**  \n",
    "- Creating multiple subplots using plt.subplots#. Creating multiple subplots using plt.subplots - Matplotlib 3.8.2 documentation. (n.d.). https://matplotlib.org/stable/gallery/subplots_axes_and_figures/subplots_demo.html \n",
    "- Delete a column from a pandas DataFrame. Stack Overflow. (2012, November 1). https://stackoverflow.com/questions/13411544/delete-a-column-from-a-pandas-dataframe \n",
    "- GeeksforGeeks. (2023, December 6). Plotting histogram in Python using Matplotlib. GeeksforGeeks. https://www.geeksforgeeks.org/plotting-histogram-in-python-using-matplotlib/ \n",
    "- How do I expand the output display to see more columns of a pandas DataFrame?. How do I expand the output display to see more columns of a Pandas DataFrame? (2021, May 14). https://stackoverflow.com/questions/11707586/how-do-i-expand-the-output-display-to-see-more-columns-of-a-pandas-dataframe \n",
    "- How to apply round to two pandas columns. Stack Overflow. (2020, January 2). https://stackoverflow.com/questions/59902217/how-to-apply-round-to-two-pandas-columns \n",
    "- How to detect and exclude outliers in a pandas DataFrame. Saturn Cloud Blog. (2023a, October 19). https://saturncloud.io/blog/how-to-detect-and-exclude-outliers-in-a-pandas-dataframe/#:~:text=To%20identify%20outliers%20using%20the,z%2Dscore%20and%20identify%20outliers. \n",
    "- How to get value counts for multiple columns at once in pandas DataFrame?. Stack Overflow. (2015, September 15). https://stackoverflow.com/questions/32589829/how-to-get-value-counts-for-multiple-columns-at-once-in-pandas-dataframe \n",
    "- How to Pandas Fillna() with mode of column?. Stack Overflow. (2017, May 14). https://stackoverflow.com/questions/42789324/how-to-pandas-fillna-with-mode-of-column \n",
    "- How to replace column values in a pandas DataFrame. Saturn Cloud Blog. (2023, October 28). https://saturncloud.io/blog/how-to-replace-column-values-in-a-pandas-dataframe/ \n",
    "- Keiona Middleton, K. (2023). Detecting and Treating Missing Values [PowerPoint slides. Western Governors University. https://wgu.hosted.panopto.com/Panopto/Pages/Viewer.aspx?id=767749d2-ba19-4f94-bec8-b058017b2f5e\n",
    "- Kleppen, E. (2023, May 11). How to find outliers using python [step-by-step guide]. CareerFoundry. https://careerfoundry.com/en/blog/data-analytics/how-to-find-outliers/ \n",
    "- Ramuglia, G. (2023a, August 30). Pandas astype() function: Data Type Conversion Guide. Linux Dedicated Server Blog. https://ioflood.com/blog/pandas-astype/ \n",
    "- Seaborn.boxplot. Seaborn.pydata. (n.d.). https://seaborn.pydata.org/generated/seaborn.boxplot.html \n",
    "\n",
    "### **H. References** \n",
    "- R or Python. Western Governors University. (2023, July 7). https://www.wgu.edu/online-it-degrees/programming-languages/r-or-python.html \n",
    "- Ramuglia, G. (2023, December 2). Python libraries: Your comprehensive guide. Linux Dedicated Server Blog. https://ioflood.com/blog/python-libraries/ \n",
    "- What is Principal Component Analysis (PCA) & How to use it?. Bigabid. (2023, February 8). https://www.bigabid.com/what-is-pca-and-how-can-i-use-it/ "
   ]
  },
  {
   "cell_type": "code",
   "execution_count": null,
   "id": "3da1c513-f829-4a95-b9b2-91e5d6df86b5",
   "metadata": {},
   "outputs": [],
   "source": []
  }
 ],
 "metadata": {
  "kernelspec": {
   "display_name": "Python 3 (ipykernel)",
   "language": "python",
   "name": "python3"
  },
  "language_info": {
   "codemirror_mode": {
    "name": "ipython",
    "version": 3
   },
   "file_extension": ".py",
   "mimetype": "text/x-python",
   "name": "python",
   "nbconvert_exporter": "python",
   "pygments_lexer": "ipython3",
   "version": "3.11.5"
  }
 },
 "nbformat": 4,
 "nbformat_minor": 5
}
