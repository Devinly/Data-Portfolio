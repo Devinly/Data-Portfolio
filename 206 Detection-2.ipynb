{
 "cells": [
  {
   "cell_type": "code",
   "execution_count": 1,
   "id": "94ed7371-4cea-44b2-8204-0049661a085e",
   "metadata": {
    "tags": []
   },
   "outputs": [],
   "source": [
    "#Import Libraries  \n",
    "import pandas as pd\n",
    "import seaborn as sns\n",
    "import matplotlib.pyplot as plt"
   ]
  },
  {
   "cell_type": "code",
   "execution_count": 2,
   "id": "6270f738-4483-4ff9-9c3a-13affa201083",
   "metadata": {
    "tags": []
   },
   "outputs": [],
   "source": [
    "# File path to CSV file\n",
    "file_path = 'churn_raw_data.csv'"
   ]
  },
  {
   "cell_type": "code",
   "execution_count": 3,
   "id": "bd790ea0-6efd-4f76-875a-dd182073e110",
   "metadata": {
    "tags": []
   },
   "outputs": [
    {
     "data": {
      "text/html": [
       "<div>\n",
       "<style scoped>\n",
       "    .dataframe tbody tr th:only-of-type {\n",
       "        vertical-align: middle;\n",
       "    }\n",
       "\n",
       "    .dataframe tbody tr th {\n",
       "        vertical-align: top;\n",
       "    }\n",
       "\n",
       "    .dataframe thead th {\n",
       "        text-align: right;\n",
       "    }\n",
       "</style>\n",
       "<table border=\"1\" class=\"dataframe\">\n",
       "  <thead>\n",
       "    <tr style=\"text-align: right;\">\n",
       "      <th></th>\n",
       "      <th>Unnamed: 0</th>\n",
       "      <th>CaseOrder</th>\n",
       "      <th>Customer_id</th>\n",
       "      <th>Interaction</th>\n",
       "      <th>City</th>\n",
       "      <th>State</th>\n",
       "      <th>County</th>\n",
       "      <th>Zip</th>\n",
       "      <th>Lat</th>\n",
       "      <th>Lng</th>\n",
       "      <th>Population</th>\n",
       "      <th>Area</th>\n",
       "      <th>Timezone</th>\n",
       "      <th>Job</th>\n",
       "      <th>Children</th>\n",
       "      <th>Age</th>\n",
       "      <th>Education</th>\n",
       "      <th>Employment</th>\n",
       "      <th>Income</th>\n",
       "      <th>Marital</th>\n",
       "      <th>Gender</th>\n",
       "      <th>Churn</th>\n",
       "      <th>Outage_sec_perweek</th>\n",
       "      <th>Email</th>\n",
       "      <th>Contacts</th>\n",
       "      <th>Yearly_equip_failure</th>\n",
       "      <th>Techie</th>\n",
       "      <th>Contract</th>\n",
       "      <th>Port_modem</th>\n",
       "      <th>Tablet</th>\n",
       "      <th>InternetService</th>\n",
       "      <th>Phone</th>\n",
       "      <th>Multiple</th>\n",
       "      <th>OnlineSecurity</th>\n",
       "      <th>OnlineBackup</th>\n",
       "      <th>DeviceProtection</th>\n",
       "      <th>TechSupport</th>\n",
       "      <th>StreamingTV</th>\n",
       "      <th>StreamingMovies</th>\n",
       "      <th>PaperlessBilling</th>\n",
       "      <th>PaymentMethod</th>\n",
       "      <th>Tenure</th>\n",
       "      <th>MonthlyCharge</th>\n",
       "      <th>Bandwidth_GB_Year</th>\n",
       "      <th>item1</th>\n",
       "      <th>item2</th>\n",
       "      <th>item3</th>\n",
       "      <th>item4</th>\n",
       "      <th>item5</th>\n",
       "      <th>item6</th>\n",
       "      <th>item7</th>\n",
       "      <th>item8</th>\n",
       "    </tr>\n",
       "  </thead>\n",
       "  <tbody>\n",
       "    <tr>\n",
       "      <th>0</th>\n",
       "      <td>1</td>\n",
       "      <td>1</td>\n",
       "      <td>K409198</td>\n",
       "      <td>aa90260b-4141-4a24-8e36-b04ce1f4f77b</td>\n",
       "      <td>Point Baker</td>\n",
       "      <td>AK</td>\n",
       "      <td>Prince of Wales-Hyder</td>\n",
       "      <td>99927</td>\n",
       "      <td>56.25100</td>\n",
       "      <td>-133.37571</td>\n",
       "      <td>38</td>\n",
       "      <td>Urban</td>\n",
       "      <td>America/Sitka</td>\n",
       "      <td>Environmental health practitioner</td>\n",
       "      <td>NaN</td>\n",
       "      <td>68.0</td>\n",
       "      <td>Master's Degree</td>\n",
       "      <td>Part Time</td>\n",
       "      <td>28561.99</td>\n",
       "      <td>Widowed</td>\n",
       "      <td>Male</td>\n",
       "      <td>No</td>\n",
       "      <td>6.972566</td>\n",
       "      <td>10</td>\n",
       "      <td>0</td>\n",
       "      <td>1</td>\n",
       "      <td>No</td>\n",
       "      <td>One year</td>\n",
       "      <td>Yes</td>\n",
       "      <td>Yes</td>\n",
       "      <td>Fiber Optic</td>\n",
       "      <td>Yes</td>\n",
       "      <td>No</td>\n",
       "      <td>Yes</td>\n",
       "      <td>Yes</td>\n",
       "      <td>No</td>\n",
       "      <td>No</td>\n",
       "      <td>No</td>\n",
       "      <td>Yes</td>\n",
       "      <td>Yes</td>\n",
       "      <td>Credit Card (automatic)</td>\n",
       "      <td>6.795513</td>\n",
       "      <td>171.449762</td>\n",
       "      <td>904.536110</td>\n",
       "      <td>5</td>\n",
       "      <td>5</td>\n",
       "      <td>5</td>\n",
       "      <td>3</td>\n",
       "      <td>4</td>\n",
       "      <td>4</td>\n",
       "      <td>3</td>\n",
       "      <td>4</td>\n",
       "    </tr>\n",
       "    <tr>\n",
       "      <th>1</th>\n",
       "      <td>2</td>\n",
       "      <td>2</td>\n",
       "      <td>S120509</td>\n",
       "      <td>fb76459f-c047-4a9d-8af9-e0f7d4ac2524</td>\n",
       "      <td>West Branch</td>\n",
       "      <td>MI</td>\n",
       "      <td>Ogemaw</td>\n",
       "      <td>48661</td>\n",
       "      <td>44.32893</td>\n",
       "      <td>-84.24080</td>\n",
       "      <td>10446</td>\n",
       "      <td>Urban</td>\n",
       "      <td>America/Detroit</td>\n",
       "      <td>Programmer, multimedia</td>\n",
       "      <td>1.0</td>\n",
       "      <td>27.0</td>\n",
       "      <td>Regular High School Diploma</td>\n",
       "      <td>Retired</td>\n",
       "      <td>21704.77</td>\n",
       "      <td>Married</td>\n",
       "      <td>Female</td>\n",
       "      <td>Yes</td>\n",
       "      <td>12.014541</td>\n",
       "      <td>12</td>\n",
       "      <td>0</td>\n",
       "      <td>1</td>\n",
       "      <td>Yes</td>\n",
       "      <td>Month-to-month</td>\n",
       "      <td>No</td>\n",
       "      <td>Yes</td>\n",
       "      <td>Fiber Optic</td>\n",
       "      <td>Yes</td>\n",
       "      <td>Yes</td>\n",
       "      <td>Yes</td>\n",
       "      <td>No</td>\n",
       "      <td>No</td>\n",
       "      <td>No</td>\n",
       "      <td>Yes</td>\n",
       "      <td>Yes</td>\n",
       "      <td>Yes</td>\n",
       "      <td>Bank Transfer(automatic)</td>\n",
       "      <td>1.156681</td>\n",
       "      <td>242.948015</td>\n",
       "      <td>800.982766</td>\n",
       "      <td>3</td>\n",
       "      <td>4</td>\n",
       "      <td>3</td>\n",
       "      <td>3</td>\n",
       "      <td>4</td>\n",
       "      <td>3</td>\n",
       "      <td>4</td>\n",
       "      <td>4</td>\n",
       "    </tr>\n",
       "    <tr>\n",
       "      <th>2</th>\n",
       "      <td>3</td>\n",
       "      <td>3</td>\n",
       "      <td>K191035</td>\n",
       "      <td>344d114c-3736-4be5-98f7-c72c281e2d35</td>\n",
       "      <td>Yamhill</td>\n",
       "      <td>OR</td>\n",
       "      <td>Yamhill</td>\n",
       "      <td>97148</td>\n",
       "      <td>45.35589</td>\n",
       "      <td>-123.24657</td>\n",
       "      <td>3735</td>\n",
       "      <td>Urban</td>\n",
       "      <td>America/Los_Angeles</td>\n",
       "      <td>Chief Financial Officer</td>\n",
       "      <td>4.0</td>\n",
       "      <td>50.0</td>\n",
       "      <td>Regular High School Diploma</td>\n",
       "      <td>Student</td>\n",
       "      <td>NaN</td>\n",
       "      <td>Widowed</td>\n",
       "      <td>Female</td>\n",
       "      <td>No</td>\n",
       "      <td>10.245616</td>\n",
       "      <td>9</td>\n",
       "      <td>0</td>\n",
       "      <td>1</td>\n",
       "      <td>Yes</td>\n",
       "      <td>Two Year</td>\n",
       "      <td>Yes</td>\n",
       "      <td>No</td>\n",
       "      <td>DSL</td>\n",
       "      <td>Yes</td>\n",
       "      <td>Yes</td>\n",
       "      <td>No</td>\n",
       "      <td>No</td>\n",
       "      <td>No</td>\n",
       "      <td>No</td>\n",
       "      <td>No</td>\n",
       "      <td>Yes</td>\n",
       "      <td>Yes</td>\n",
       "      <td>Credit Card (automatic)</td>\n",
       "      <td>15.754144</td>\n",
       "      <td>159.440398</td>\n",
       "      <td>2054.706961</td>\n",
       "      <td>4</td>\n",
       "      <td>4</td>\n",
       "      <td>2</td>\n",
       "      <td>4</td>\n",
       "      <td>4</td>\n",
       "      <td>3</td>\n",
       "      <td>3</td>\n",
       "      <td>3</td>\n",
       "    </tr>\n",
       "    <tr>\n",
       "      <th>3</th>\n",
       "      <td>4</td>\n",
       "      <td>4</td>\n",
       "      <td>D90850</td>\n",
       "      <td>abfa2b40-2d43-4994-b15a-989b8c79e311</td>\n",
       "      <td>Del Mar</td>\n",
       "      <td>CA</td>\n",
       "      <td>San Diego</td>\n",
       "      <td>92014</td>\n",
       "      <td>32.96687</td>\n",
       "      <td>-117.24798</td>\n",
       "      <td>13863</td>\n",
       "      <td>Suburban</td>\n",
       "      <td>America/Los_Angeles</td>\n",
       "      <td>Solicitor</td>\n",
       "      <td>1.0</td>\n",
       "      <td>48.0</td>\n",
       "      <td>Doctorate Degree</td>\n",
       "      <td>Retired</td>\n",
       "      <td>18925.23</td>\n",
       "      <td>Married</td>\n",
       "      <td>Male</td>\n",
       "      <td>No</td>\n",
       "      <td>15.206193</td>\n",
       "      <td>15</td>\n",
       "      <td>2</td>\n",
       "      <td>0</td>\n",
       "      <td>Yes</td>\n",
       "      <td>Two Year</td>\n",
       "      <td>No</td>\n",
       "      <td>No</td>\n",
       "      <td>DSL</td>\n",
       "      <td>Yes</td>\n",
       "      <td>No</td>\n",
       "      <td>Yes</td>\n",
       "      <td>No</td>\n",
       "      <td>No</td>\n",
       "      <td>No</td>\n",
       "      <td>Yes</td>\n",
       "      <td>No</td>\n",
       "      <td>Yes</td>\n",
       "      <td>Mailed Check</td>\n",
       "      <td>17.087227</td>\n",
       "      <td>120.249493</td>\n",
       "      <td>2164.579412</td>\n",
       "      <td>4</td>\n",
       "      <td>4</td>\n",
       "      <td>4</td>\n",
       "      <td>2</td>\n",
       "      <td>5</td>\n",
       "      <td>4</td>\n",
       "      <td>3</td>\n",
       "      <td>3</td>\n",
       "    </tr>\n",
       "    <tr>\n",
       "      <th>4</th>\n",
       "      <td>5</td>\n",
       "      <td>5</td>\n",
       "      <td>K662701</td>\n",
       "      <td>68a861fd-0d20-4e51-a587-8a90407ee574</td>\n",
       "      <td>Needville</td>\n",
       "      <td>TX</td>\n",
       "      <td>Fort Bend</td>\n",
       "      <td>77461</td>\n",
       "      <td>29.38012</td>\n",
       "      <td>-95.80673</td>\n",
       "      <td>11352</td>\n",
       "      <td>Suburban</td>\n",
       "      <td>America/Chicago</td>\n",
       "      <td>Medical illustrator</td>\n",
       "      <td>0.0</td>\n",
       "      <td>83.0</td>\n",
       "      <td>Master's Degree</td>\n",
       "      <td>Student</td>\n",
       "      <td>40074.19</td>\n",
       "      <td>Separated</td>\n",
       "      <td>Male</td>\n",
       "      <td>Yes</td>\n",
       "      <td>8.960316</td>\n",
       "      <td>16</td>\n",
       "      <td>2</td>\n",
       "      <td>1</td>\n",
       "      <td>No</td>\n",
       "      <td>Month-to-month</td>\n",
       "      <td>Yes</td>\n",
       "      <td>No</td>\n",
       "      <td>Fiber Optic</td>\n",
       "      <td>No</td>\n",
       "      <td>No</td>\n",
       "      <td>No</td>\n",
       "      <td>No</td>\n",
       "      <td>No</td>\n",
       "      <td>Yes</td>\n",
       "      <td>Yes</td>\n",
       "      <td>No</td>\n",
       "      <td>No</td>\n",
       "      <td>Mailed Check</td>\n",
       "      <td>1.670972</td>\n",
       "      <td>150.761216</td>\n",
       "      <td>271.493436</td>\n",
       "      <td>4</td>\n",
       "      <td>4</td>\n",
       "      <td>4</td>\n",
       "      <td>3</td>\n",
       "      <td>4</td>\n",
       "      <td>4</td>\n",
       "      <td>4</td>\n",
       "      <td>5</td>\n",
       "    </tr>\n",
       "    <tr>\n",
       "      <th>...</th>\n",
       "      <td>...</td>\n",
       "      <td>...</td>\n",
       "      <td>...</td>\n",
       "      <td>...</td>\n",
       "      <td>...</td>\n",
       "      <td>...</td>\n",
       "      <td>...</td>\n",
       "      <td>...</td>\n",
       "      <td>...</td>\n",
       "      <td>...</td>\n",
       "      <td>...</td>\n",
       "      <td>...</td>\n",
       "      <td>...</td>\n",
       "      <td>...</td>\n",
       "      <td>...</td>\n",
       "      <td>...</td>\n",
       "      <td>...</td>\n",
       "      <td>...</td>\n",
       "      <td>...</td>\n",
       "      <td>...</td>\n",
       "      <td>...</td>\n",
       "      <td>...</td>\n",
       "      <td>...</td>\n",
       "      <td>...</td>\n",
       "      <td>...</td>\n",
       "      <td>...</td>\n",
       "      <td>...</td>\n",
       "      <td>...</td>\n",
       "      <td>...</td>\n",
       "      <td>...</td>\n",
       "      <td>...</td>\n",
       "      <td>...</td>\n",
       "      <td>...</td>\n",
       "      <td>...</td>\n",
       "      <td>...</td>\n",
       "      <td>...</td>\n",
       "      <td>...</td>\n",
       "      <td>...</td>\n",
       "      <td>...</td>\n",
       "      <td>...</td>\n",
       "      <td>...</td>\n",
       "      <td>...</td>\n",
       "      <td>...</td>\n",
       "      <td>...</td>\n",
       "      <td>...</td>\n",
       "      <td>...</td>\n",
       "      <td>...</td>\n",
       "      <td>...</td>\n",
       "      <td>...</td>\n",
       "      <td>...</td>\n",
       "      <td>...</td>\n",
       "      <td>...</td>\n",
       "    </tr>\n",
       "    <tr>\n",
       "      <th>9995</th>\n",
       "      <td>9996</td>\n",
       "      <td>9996</td>\n",
       "      <td>M324793</td>\n",
       "      <td>45deb5a2-ae04-4518-bf0b-c82db8dbe4a4</td>\n",
       "      <td>Mount Holly</td>\n",
       "      <td>VT</td>\n",
       "      <td>Rutland</td>\n",
       "      <td>5758</td>\n",
       "      <td>43.43391</td>\n",
       "      <td>-72.78734</td>\n",
       "      <td>640</td>\n",
       "      <td>Rural</td>\n",
       "      <td>America/New_York</td>\n",
       "      <td>Sport and exercise psychologist</td>\n",
       "      <td>3.0</td>\n",
       "      <td>NaN</td>\n",
       "      <td>Some College, Less than 1 Year</td>\n",
       "      <td>Retired</td>\n",
       "      <td>55723.74</td>\n",
       "      <td>Married</td>\n",
       "      <td>Male</td>\n",
       "      <td>No</td>\n",
       "      <td>9.265392</td>\n",
       "      <td>12</td>\n",
       "      <td>2</td>\n",
       "      <td>0</td>\n",
       "      <td>NaN</td>\n",
       "      <td>Month-to-month</td>\n",
       "      <td>Yes</td>\n",
       "      <td>Yes</td>\n",
       "      <td>DSL</td>\n",
       "      <td>NaN</td>\n",
       "      <td>Yes</td>\n",
       "      <td>No</td>\n",
       "      <td>Yes</td>\n",
       "      <td>Yes</td>\n",
       "      <td>No</td>\n",
       "      <td>No</td>\n",
       "      <td>No</td>\n",
       "      <td>No</td>\n",
       "      <td>Electronic Check</td>\n",
       "      <td>68.197130</td>\n",
       "      <td>159.828800</td>\n",
       "      <td>6511.253000</td>\n",
       "      <td>3</td>\n",
       "      <td>2</td>\n",
       "      <td>3</td>\n",
       "      <td>3</td>\n",
       "      <td>4</td>\n",
       "      <td>3</td>\n",
       "      <td>2</td>\n",
       "      <td>3</td>\n",
       "    </tr>\n",
       "    <tr>\n",
       "      <th>9996</th>\n",
       "      <td>9997</td>\n",
       "      <td>9997</td>\n",
       "      <td>D861732</td>\n",
       "      <td>6e96b921-0c09-4993-bbda-a1ac6411061a</td>\n",
       "      <td>Clarksville</td>\n",
       "      <td>TN</td>\n",
       "      <td>Montgomery</td>\n",
       "      <td>37042</td>\n",
       "      <td>36.56907</td>\n",
       "      <td>-87.41694</td>\n",
       "      <td>77168</td>\n",
       "      <td>Rural</td>\n",
       "      <td>America/Chicago</td>\n",
       "      <td>Consulting civil engineer</td>\n",
       "      <td>4.0</td>\n",
       "      <td>48.0</td>\n",
       "      <td>Regular High School Diploma</td>\n",
       "      <td>Part Time</td>\n",
       "      <td>NaN</td>\n",
       "      <td>Divorced</td>\n",
       "      <td>Male</td>\n",
       "      <td>No</td>\n",
       "      <td>8.115849</td>\n",
       "      <td>15</td>\n",
       "      <td>2</td>\n",
       "      <td>0</td>\n",
       "      <td>NaN</td>\n",
       "      <td>Two Year</td>\n",
       "      <td>No</td>\n",
       "      <td>No</td>\n",
       "      <td>Fiber Optic</td>\n",
       "      <td>NaN</td>\n",
       "      <td>Yes</td>\n",
       "      <td>Yes</td>\n",
       "      <td>Yes</td>\n",
       "      <td>Yes</td>\n",
       "      <td>No</td>\n",
       "      <td>Yes</td>\n",
       "      <td>No</td>\n",
       "      <td>No</td>\n",
       "      <td>Electronic Check</td>\n",
       "      <td>61.040370</td>\n",
       "      <td>208.856400</td>\n",
       "      <td>5695.952000</td>\n",
       "      <td>4</td>\n",
       "      <td>5</td>\n",
       "      <td>5</td>\n",
       "      <td>4</td>\n",
       "      <td>4</td>\n",
       "      <td>5</td>\n",
       "      <td>2</td>\n",
       "      <td>5</td>\n",
       "    </tr>\n",
       "    <tr>\n",
       "      <th>9997</th>\n",
       "      <td>9998</td>\n",
       "      <td>9998</td>\n",
       "      <td>I243405</td>\n",
       "      <td>e8307ddf-9a01-4fff-bc59-4742e03fd24f</td>\n",
       "      <td>Mobeetie</td>\n",
       "      <td>TX</td>\n",
       "      <td>Wheeler</td>\n",
       "      <td>79061</td>\n",
       "      <td>35.52039</td>\n",
       "      <td>-100.44180</td>\n",
       "      <td>406</td>\n",
       "      <td>Rural</td>\n",
       "      <td>America/Chicago</td>\n",
       "      <td>IT technical support officer</td>\n",
       "      <td>NaN</td>\n",
       "      <td>NaN</td>\n",
       "      <td>Nursery School to 8th Grade</td>\n",
       "      <td>Full Time</td>\n",
       "      <td>NaN</td>\n",
       "      <td>Never Married</td>\n",
       "      <td>Female</td>\n",
       "      <td>No</td>\n",
       "      <td>4.837696</td>\n",
       "      <td>10</td>\n",
       "      <td>0</td>\n",
       "      <td>0</td>\n",
       "      <td>No</td>\n",
       "      <td>Month-to-month</td>\n",
       "      <td>No</td>\n",
       "      <td>No</td>\n",
       "      <td>Fiber Optic</td>\n",
       "      <td>Yes</td>\n",
       "      <td>Yes</td>\n",
       "      <td>Yes</td>\n",
       "      <td>Yes</td>\n",
       "      <td>No</td>\n",
       "      <td>No</td>\n",
       "      <td>No</td>\n",
       "      <td>No</td>\n",
       "      <td>Yes</td>\n",
       "      <td>Bank Transfer(automatic)</td>\n",
       "      <td>NaN</td>\n",
       "      <td>168.220900</td>\n",
       "      <td>4159.306000</td>\n",
       "      <td>4</td>\n",
       "      <td>4</td>\n",
       "      <td>4</td>\n",
       "      <td>4</td>\n",
       "      <td>4</td>\n",
       "      <td>4</td>\n",
       "      <td>4</td>\n",
       "      <td>5</td>\n",
       "    </tr>\n",
       "    <tr>\n",
       "      <th>9998</th>\n",
       "      <td>9999</td>\n",
       "      <td>9999</td>\n",
       "      <td>I641617</td>\n",
       "      <td>3775ccfc-0052-4107-81ae-9657f81ecdf3</td>\n",
       "      <td>Carrollton</td>\n",
       "      <td>GA</td>\n",
       "      <td>Carroll</td>\n",
       "      <td>30117</td>\n",
       "      <td>33.58016</td>\n",
       "      <td>-85.13241</td>\n",
       "      <td>35575</td>\n",
       "      <td>Urban</td>\n",
       "      <td>America/New_York</td>\n",
       "      <td>Water engineer</td>\n",
       "      <td>1.0</td>\n",
       "      <td>39.0</td>\n",
       "      <td>Bachelor's Degree</td>\n",
       "      <td>Full Time</td>\n",
       "      <td>16667.58</td>\n",
       "      <td>Separated</td>\n",
       "      <td>Male</td>\n",
       "      <td>No</td>\n",
       "      <td>12.076460</td>\n",
       "      <td>14</td>\n",
       "      <td>1</td>\n",
       "      <td>0</td>\n",
       "      <td>No</td>\n",
       "      <td>Two Year</td>\n",
       "      <td>No</td>\n",
       "      <td>Yes</td>\n",
       "      <td>Fiber Optic</td>\n",
       "      <td>No</td>\n",
       "      <td>Yes</td>\n",
       "      <td>No</td>\n",
       "      <td>No</td>\n",
       "      <td>No</td>\n",
       "      <td>Yes</td>\n",
       "      <td>Yes</td>\n",
       "      <td>Yes</td>\n",
       "      <td>Yes</td>\n",
       "      <td>Credit Card (automatic)</td>\n",
       "      <td>71.095600</td>\n",
       "      <td>252.628600</td>\n",
       "      <td>6468.457000</td>\n",
       "      <td>4</td>\n",
       "      <td>4</td>\n",
       "      <td>6</td>\n",
       "      <td>4</td>\n",
       "      <td>3</td>\n",
       "      <td>3</td>\n",
       "      <td>5</td>\n",
       "      <td>4</td>\n",
       "    </tr>\n",
       "    <tr>\n",
       "      <th>9999</th>\n",
       "      <td>10000</td>\n",
       "      <td>10000</td>\n",
       "      <td>T38070</td>\n",
       "      <td>9de5fb6e-bd33-4995-aec8-f01d0172a499</td>\n",
       "      <td>Clarkesville</td>\n",
       "      <td>GA</td>\n",
       "      <td>Habersham</td>\n",
       "      <td>30523</td>\n",
       "      <td>34.70783</td>\n",
       "      <td>-83.53648</td>\n",
       "      <td>12230</td>\n",
       "      <td>Urban</td>\n",
       "      <td>America/New_York</td>\n",
       "      <td>Personal assistant</td>\n",
       "      <td>1.0</td>\n",
       "      <td>28.0</td>\n",
       "      <td>GED or Alternative Credential</td>\n",
       "      <td>Full Time</td>\n",
       "      <td>NaN</td>\n",
       "      <td>Never Married</td>\n",
       "      <td>Male</td>\n",
       "      <td>No</td>\n",
       "      <td>12.641760</td>\n",
       "      <td>17</td>\n",
       "      <td>1</td>\n",
       "      <td>0</td>\n",
       "      <td>NaN</td>\n",
       "      <td>Month-to-month</td>\n",
       "      <td>Yes</td>\n",
       "      <td>No</td>\n",
       "      <td>Fiber Optic</td>\n",
       "      <td>Yes</td>\n",
       "      <td>Yes</td>\n",
       "      <td>Yes</td>\n",
       "      <td>Yes</td>\n",
       "      <td>Yes</td>\n",
       "      <td>No</td>\n",
       "      <td>No</td>\n",
       "      <td>Yes</td>\n",
       "      <td>Yes</td>\n",
       "      <td>Electronic Check</td>\n",
       "      <td>63.350860</td>\n",
       "      <td>218.371000</td>\n",
       "      <td>5857.586000</td>\n",
       "      <td>2</td>\n",
       "      <td>2</td>\n",
       "      <td>3</td>\n",
       "      <td>3</td>\n",
       "      <td>3</td>\n",
       "      <td>3</td>\n",
       "      <td>4</td>\n",
       "      <td>1</td>\n",
       "    </tr>\n",
       "  </tbody>\n",
       "</table>\n",
       "<p>10000 rows × 52 columns</p>\n",
       "</div>"
      ],
      "text/plain": [
       "      Unnamed: 0  CaseOrder Customer_id                           Interaction  \\\n",
       "0              1          1     K409198  aa90260b-4141-4a24-8e36-b04ce1f4f77b   \n",
       "1              2          2     S120509  fb76459f-c047-4a9d-8af9-e0f7d4ac2524   \n",
       "2              3          3     K191035  344d114c-3736-4be5-98f7-c72c281e2d35   \n",
       "3              4          4      D90850  abfa2b40-2d43-4994-b15a-989b8c79e311   \n",
       "4              5          5     K662701  68a861fd-0d20-4e51-a587-8a90407ee574   \n",
       "...          ...        ...         ...                                   ...   \n",
       "9995        9996       9996     M324793  45deb5a2-ae04-4518-bf0b-c82db8dbe4a4   \n",
       "9996        9997       9997     D861732  6e96b921-0c09-4993-bbda-a1ac6411061a   \n",
       "9997        9998       9998     I243405  e8307ddf-9a01-4fff-bc59-4742e03fd24f   \n",
       "9998        9999       9999     I641617  3775ccfc-0052-4107-81ae-9657f81ecdf3   \n",
       "9999       10000      10000      T38070  9de5fb6e-bd33-4995-aec8-f01d0172a499   \n",
       "\n",
       "              City State                 County    Zip       Lat        Lng  \\\n",
       "0      Point Baker    AK  Prince of Wales-Hyder  99927  56.25100 -133.37571   \n",
       "1      West Branch    MI                 Ogemaw  48661  44.32893  -84.24080   \n",
       "2          Yamhill    OR                Yamhill  97148  45.35589 -123.24657   \n",
       "3          Del Mar    CA              San Diego  92014  32.96687 -117.24798   \n",
       "4        Needville    TX              Fort Bend  77461  29.38012  -95.80673   \n",
       "...            ...   ...                    ...    ...       ...        ...   \n",
       "9995   Mount Holly    VT                Rutland   5758  43.43391  -72.78734   \n",
       "9996   Clarksville    TN             Montgomery  37042  36.56907  -87.41694   \n",
       "9997      Mobeetie    TX                Wheeler  79061  35.52039 -100.44180   \n",
       "9998    Carrollton    GA                Carroll  30117  33.58016  -85.13241   \n",
       "9999  Clarkesville    GA              Habersham  30523  34.70783  -83.53648   \n",
       "\n",
       "      Population      Area             Timezone  \\\n",
       "0             38     Urban        America/Sitka   \n",
       "1          10446     Urban      America/Detroit   \n",
       "2           3735     Urban  America/Los_Angeles   \n",
       "3          13863  Suburban  America/Los_Angeles   \n",
       "4          11352  Suburban      America/Chicago   \n",
       "...          ...       ...                  ...   \n",
       "9995         640     Rural     America/New_York   \n",
       "9996       77168     Rural      America/Chicago   \n",
       "9997         406     Rural      America/Chicago   \n",
       "9998       35575     Urban     America/New_York   \n",
       "9999       12230     Urban     America/New_York   \n",
       "\n",
       "                                    Job  Children   Age  \\\n",
       "0     Environmental health practitioner       NaN  68.0   \n",
       "1                Programmer, multimedia       1.0  27.0   \n",
       "2               Chief Financial Officer       4.0  50.0   \n",
       "3                             Solicitor       1.0  48.0   \n",
       "4                   Medical illustrator       0.0  83.0   \n",
       "...                                 ...       ...   ...   \n",
       "9995    Sport and exercise psychologist       3.0   NaN   \n",
       "9996          Consulting civil engineer       4.0  48.0   \n",
       "9997       IT technical support officer       NaN   NaN   \n",
       "9998                     Water engineer       1.0  39.0   \n",
       "9999                 Personal assistant       1.0  28.0   \n",
       "\n",
       "                           Education Employment    Income        Marital  \\\n",
       "0                    Master's Degree  Part Time  28561.99        Widowed   \n",
       "1        Regular High School Diploma    Retired  21704.77        Married   \n",
       "2        Regular High School Diploma    Student       NaN        Widowed   \n",
       "3                   Doctorate Degree    Retired  18925.23        Married   \n",
       "4                    Master's Degree    Student  40074.19      Separated   \n",
       "...                              ...        ...       ...            ...   \n",
       "9995  Some College, Less than 1 Year    Retired  55723.74        Married   \n",
       "9996     Regular High School Diploma  Part Time       NaN       Divorced   \n",
       "9997     Nursery School to 8th Grade  Full Time       NaN  Never Married   \n",
       "9998               Bachelor's Degree  Full Time  16667.58      Separated   \n",
       "9999   GED or Alternative Credential  Full Time       NaN  Never Married   \n",
       "\n",
       "      Gender Churn  Outage_sec_perweek  Email  Contacts  Yearly_equip_failure  \\\n",
       "0       Male    No            6.972566     10         0                     1   \n",
       "1     Female   Yes           12.014541     12         0                     1   \n",
       "2     Female    No           10.245616      9         0                     1   \n",
       "3       Male    No           15.206193     15         2                     0   \n",
       "4       Male   Yes            8.960316     16         2                     1   \n",
       "...      ...   ...                 ...    ...       ...                   ...   \n",
       "9995    Male    No            9.265392     12         2                     0   \n",
       "9996    Male    No            8.115849     15         2                     0   \n",
       "9997  Female    No            4.837696     10         0                     0   \n",
       "9998    Male    No           12.076460     14         1                     0   \n",
       "9999    Male    No           12.641760     17         1                     0   \n",
       "\n",
       "     Techie        Contract Port_modem Tablet InternetService Phone Multiple  \\\n",
       "0        No        One year        Yes    Yes     Fiber Optic   Yes       No   \n",
       "1       Yes  Month-to-month         No    Yes     Fiber Optic   Yes      Yes   \n",
       "2       Yes        Two Year        Yes     No             DSL   Yes      Yes   \n",
       "3       Yes        Two Year         No     No             DSL   Yes       No   \n",
       "4        No  Month-to-month        Yes     No     Fiber Optic    No       No   \n",
       "...     ...             ...        ...    ...             ...   ...      ...   \n",
       "9995    NaN  Month-to-month        Yes    Yes             DSL   NaN      Yes   \n",
       "9996    NaN        Two Year         No     No     Fiber Optic   NaN      Yes   \n",
       "9997     No  Month-to-month         No     No     Fiber Optic   Yes      Yes   \n",
       "9998     No        Two Year         No    Yes     Fiber Optic    No      Yes   \n",
       "9999    NaN  Month-to-month        Yes     No     Fiber Optic   Yes      Yes   \n",
       "\n",
       "     OnlineSecurity OnlineBackup DeviceProtection TechSupport StreamingTV  \\\n",
       "0               Yes          Yes               No          No          No   \n",
       "1               Yes           No               No          No         Yes   \n",
       "2                No           No               No          No          No   \n",
       "3               Yes           No               No          No         Yes   \n",
       "4                No           No               No         Yes         Yes   \n",
       "...             ...          ...              ...         ...         ...   \n",
       "9995             No          Yes              Yes          No          No   \n",
       "9996            Yes          Yes              Yes          No         Yes   \n",
       "9997            Yes          Yes               No          No          No   \n",
       "9998             No           No               No         Yes         Yes   \n",
       "9999            Yes          Yes              Yes          No          No   \n",
       "\n",
       "     StreamingMovies PaperlessBilling             PaymentMethod     Tenure  \\\n",
       "0                Yes              Yes   Credit Card (automatic)   6.795513   \n",
       "1                Yes              Yes  Bank Transfer(automatic)   1.156681   \n",
       "2                Yes              Yes   Credit Card (automatic)  15.754144   \n",
       "3                 No              Yes              Mailed Check  17.087227   \n",
       "4                 No               No              Mailed Check   1.670972   \n",
       "...              ...              ...                       ...        ...   \n",
       "9995              No               No          Electronic Check  68.197130   \n",
       "9996              No               No          Electronic Check  61.040370   \n",
       "9997              No              Yes  Bank Transfer(automatic)        NaN   \n",
       "9998             Yes              Yes   Credit Card (automatic)  71.095600   \n",
       "9999             Yes              Yes          Electronic Check  63.350860   \n",
       "\n",
       "      MonthlyCharge  Bandwidth_GB_Year  item1  item2  item3  item4  item5  \\\n",
       "0        171.449762         904.536110      5      5      5      3      4   \n",
       "1        242.948015         800.982766      3      4      3      3      4   \n",
       "2        159.440398        2054.706961      4      4      2      4      4   \n",
       "3        120.249493        2164.579412      4      4      4      2      5   \n",
       "4        150.761216         271.493436      4      4      4      3      4   \n",
       "...             ...                ...    ...    ...    ...    ...    ...   \n",
       "9995     159.828800        6511.253000      3      2      3      3      4   \n",
       "9996     208.856400        5695.952000      4      5      5      4      4   \n",
       "9997     168.220900        4159.306000      4      4      4      4      4   \n",
       "9998     252.628600        6468.457000      4      4      6      4      3   \n",
       "9999     218.371000        5857.586000      2      2      3      3      3   \n",
       "\n",
       "      item6  item7  item8  \n",
       "0         4      3      4  \n",
       "1         3      4      4  \n",
       "2         3      3      3  \n",
       "3         4      3      3  \n",
       "4         4      4      5  \n",
       "...     ...    ...    ...  \n",
       "9995      3      2      3  \n",
       "9996      5      2      5  \n",
       "9997      4      4      5  \n",
       "9998      3      5      4  \n",
       "9999      3      4      1  \n",
       "\n",
       "[10000 rows x 52 columns]"
      ]
     },
     "execution_count": 3,
     "metadata": {},
     "output_type": "execute_result"
    }
   ],
   "source": [
    "# Read the CSV file into a DataFrame\n",
    "df = pd.read_csv(file_path)\n",
    "\n",
    "# Display df [In text Citation: (How do I expand the output display to see more columns of a pandas DataFrame?, 2021)]\n",
    "pd.set_option(\"display.max_columns\", None)\n",
    "df"
   ]
  },
  {
   "cell_type": "code",
   "execution_count": 4,
   "id": "4f55a4d2-240d-4415-b2e4-2a17edc70941",
   "metadata": {
    "tags": []
   },
   "outputs": [
    {
     "name": "stdout",
     "output_type": "stream",
     "text": [
      "<class 'pandas.core.frame.DataFrame'>\n",
      "RangeIndex: 10000 entries, 0 to 9999\n",
      "Data columns (total 52 columns):\n",
      " #   Column                Non-Null Count  Dtype  \n",
      "---  ------                --------------  -----  \n",
      " 0   Unnamed: 0            10000 non-null  int64  \n",
      " 1   CaseOrder             10000 non-null  int64  \n",
      " 2   Customer_id           10000 non-null  object \n",
      " 3   Interaction           10000 non-null  object \n",
      " 4   City                  10000 non-null  object \n",
      " 5   State                 10000 non-null  object \n",
      " 6   County                10000 non-null  object \n",
      " 7   Zip                   10000 non-null  int64  \n",
      " 8   Lat                   10000 non-null  float64\n",
      " 9   Lng                   10000 non-null  float64\n",
      " 10  Population            10000 non-null  int64  \n",
      " 11  Area                  10000 non-null  object \n",
      " 12  Timezone              10000 non-null  object \n",
      " 13  Job                   10000 non-null  object \n",
      " 14  Children              7505 non-null   float64\n",
      " 15  Age                   7525 non-null   float64\n",
      " 16  Education             10000 non-null  object \n",
      " 17  Employment            10000 non-null  object \n",
      " 18  Income                7510 non-null   float64\n",
      " 19  Marital               10000 non-null  object \n",
      " 20  Gender                10000 non-null  object \n",
      " 21  Churn                 10000 non-null  object \n",
      " 22  Outage_sec_perweek    10000 non-null  float64\n",
      " 23  Email                 10000 non-null  int64  \n",
      " 24  Contacts              10000 non-null  int64  \n",
      " 25  Yearly_equip_failure  10000 non-null  int64  \n",
      " 26  Techie                7523 non-null   object \n",
      " 27  Contract              10000 non-null  object \n",
      " 28  Port_modem            10000 non-null  object \n",
      " 29  Tablet                10000 non-null  object \n",
      " 30  InternetService       7871 non-null   object \n",
      " 31  Phone                 8974 non-null   object \n",
      " 32  Multiple              10000 non-null  object \n",
      " 33  OnlineSecurity        10000 non-null  object \n",
      " 34  OnlineBackup          10000 non-null  object \n",
      " 35  DeviceProtection      10000 non-null  object \n",
      " 36  TechSupport           9009 non-null   object \n",
      " 37  StreamingTV           10000 non-null  object \n",
      " 38  StreamingMovies       10000 non-null  object \n",
      " 39  PaperlessBilling      10000 non-null  object \n",
      " 40  PaymentMethod         10000 non-null  object \n",
      " 41  Tenure                9069 non-null   float64\n",
      " 42  MonthlyCharge         10000 non-null  float64\n",
      " 43  Bandwidth_GB_Year     8979 non-null   float64\n",
      " 44  item1                 10000 non-null  int64  \n",
      " 45  item2                 10000 non-null  int64  \n",
      " 46  item3                 10000 non-null  int64  \n",
      " 47  item4                 10000 non-null  int64  \n",
      " 48  item5                 10000 non-null  int64  \n",
      " 49  item6                 10000 non-null  int64  \n",
      " 50  item7                 10000 non-null  int64  \n",
      " 51  item8                 10000 non-null  int64  \n",
      "dtypes: float64(9), int64(15), object(28)\n",
      "memory usage: 4.0+ MB\n"
     ]
    }
   ],
   "source": [
    "# Get basic info about df\n",
    "df.info()"
   ]
  },
  {
   "cell_type": "code",
   "execution_count": 5,
   "id": "3597d133-3b27-4d44-8768-033f5e58433b",
   "metadata": {
    "tags": []
   },
   "outputs": [
    {
     "name": "stdout",
     "output_type": "stream",
     "text": [
      "False    10000\n",
      "Name: count, dtype: int64\n"
     ]
    }
   ],
   "source": [
    "#Detect Duplicates \n",
    "df.duplicated()\n",
    "\n",
    "print(df.duplicated().value_counts())"
   ]
  },
  {
   "cell_type": "code",
   "execution_count": 6,
   "id": "653c33ef-8899-487f-adcf-00d0033a5d85",
   "metadata": {
    "tags": []
   },
   "outputs": [
    {
     "name": "stdout",
     "output_type": "stream",
     "text": [
      "Unnamed: 0                 0\n",
      "CaseOrder                  0\n",
      "Customer_id                0\n",
      "Interaction                0\n",
      "City                       0\n",
      "State                      0\n",
      "County                     0\n",
      "Zip                        0\n",
      "Lat                        0\n",
      "Lng                        0\n",
      "Population                 0\n",
      "Area                       0\n",
      "Timezone                   0\n",
      "Job                        0\n",
      "Children                2495\n",
      "Age                     2475\n",
      "Education                  0\n",
      "Employment                 0\n",
      "Income                  2490\n",
      "Marital                    0\n",
      "Gender                     0\n",
      "Churn                      0\n",
      "Outage_sec_perweek         0\n",
      "Email                      0\n",
      "Contacts                   0\n",
      "Yearly_equip_failure       0\n",
      "Techie                  2477\n",
      "Contract                   0\n",
      "Port_modem                 0\n",
      "Tablet                     0\n",
      "InternetService         2129\n",
      "Phone                   1026\n",
      "Multiple                   0\n",
      "OnlineSecurity             0\n",
      "OnlineBackup               0\n",
      "DeviceProtection           0\n",
      "TechSupport              991\n",
      "StreamingTV                0\n",
      "StreamingMovies            0\n",
      "PaperlessBilling           0\n",
      "PaymentMethod              0\n",
      "Tenure                   931\n",
      "MonthlyCharge              0\n",
      "Bandwidth_GB_Year       1021\n",
      "item1                      0\n",
      "item2                      0\n",
      "item3                      0\n",
      "item4                      0\n",
      "item5                      0\n",
      "item6                      0\n",
      "item7                      0\n",
      "item8                      0\n",
      "dtype: int64\n"
     ]
    }
   ],
   "source": [
    "# Detect Missing Values \n",
    "missing_values = df.isnull().sum()\n",
    "\n",
    "# Print the count of missing values for each column\n",
    "print(missing_values)"
   ]
  },
  {
   "cell_type": "code",
   "execution_count": 7,
   "id": "58a8ab64-2a98-41aa-8d5d-bb9788268396",
   "metadata": {
    "tags": []
   },
   "outputs": [
    {
     "name": "stdout",
     "output_type": "stream",
     "text": [
      "Total Missing Values: 16035\n"
     ]
    }
   ],
   "source": [
    "#Print total missing values within dataset\n",
    "total_missing = missing_values.sum()\n",
    "print(\"Total Missing Values:\", total_missing)"
   ]
  },
  {
   "cell_type": "code",
   "execution_count": 8,
   "id": "15ac1c2e-dc28-447f-af90-37dbd63f9517",
   "metadata": {
    "tags": []
   },
   "outputs": [
    {
     "data": {
      "text/plain": [
       "<Axes: xlabel='Population'>"
      ]
     },
     "execution_count": 8,
     "metadata": {},
     "output_type": "execute_result"
    },
    {
     "data": {
      "image/png": "[encoded data removed]",
      "text/plain": [
       "<Figure size 640x480 with 1 Axes>"
      ]
     },
     "metadata": {},
     "output_type": "display_data"
    }
   ],
   "source": [
    "#Create boxplot for the \"Population\" column [In text citation: (Seaborn.boxplot, n.d.)]\n",
    "sns.boxplot(x=df[\"Population\"]) "
   ]
  },
  {
   "cell_type": "code",
   "execution_count": 9,
   "id": "f48c6ead-82cc-49c8-aa3c-a8ddff722c8e",
   "metadata": {
    "tags": []
   },
   "outputs": [],
   "source": [
    "#Create function to detect outliers [In text citation: (Kleppen, 2023)] \n",
    "def treatOutlier(df, qvar):\n",
    "    df[qvar].fillna(df[qvar].median(), inplace=True)\n",
    "    sd=df[qvar].std()\n",
    "    print(\"sd:\", sd)\n",
    "    print(df[qvar].describe(percentiles=[0.1, 0.25, 0.5, 0.75, 0.9, 0.95, 0.99, 0.999, 1]))\n",
    "    q1=df[qvar].quantile(0.25)\n",
    "    print(\"Q1:\", q1)\n",
    "    q3=df[qvar].quantile(0.75)\n",
    "    print(\"Q3:\", q3)\n",
    "    q2=df[qvar].quantile(0.5)\n",
    "    print(\"Q2:\", q2)\n",
    "    IQR=q3-q1\n",
    "    print(\"IQR:\", IQR)\n",
    "    max=q3+1.5*IQR\n",
    "    min=q1-1.5*IQR\n",
    "    \n",
    "#Whiskers\n",
    "    print(\"Upper Whisker: \"+ str(max))\n",
    "    print(\"Lower Whisker: \" + str(min))\n",
    "    \n",
    "#Outliers\n",
    "    outliers = df[qvar][((df[qvar]<(q1-1.5*IQR)) | (df[qvar]>(q3+1.5*IQR)))]\n",
    "    print(\"number of outliers: \"+ str(len(outliers)))\n",
    "    print(\"max outlier value: \"+ str(outliers.max()))\n",
    "    print(\"min outlier value: \"+ str(outliers.min()))\n",
    "    outliers"
   ]
  },
  {
   "cell_type": "code",
   "execution_count": 10,
   "id": "6ee2f469-dec1-4528-a621-b84f8f6335fb",
   "metadata": {
    "tags": []
   },
   "outputs": [
    {
     "name": "stdout",
     "output_type": "stream",
     "text": [
      "sd: 14432.69867076143\n",
      "count     10000.000000\n",
      "mean       9756.562400\n",
      "std       14432.698671\n",
      "min           0.000000\n",
      "10%         211.000000\n",
      "25%         738.000000\n",
      "50%        2910.500000\n",
      "75%       13168.000000\n",
      "90%       30558.000000\n",
      "95%       40770.400000\n",
      "99%       62429.000000\n",
      "99.9%     90517.158000\n",
      "100%     111850.000000\n",
      "max      111850.000000\n",
      "Name: Population, dtype: float64\n",
      "Q1: 738.0\n",
      "Q3: 13168.0\n",
      "Q2: 2910.5\n",
      "IQR: 12430.0\n",
      "Upper Whisker: 31813.0\n",
      "Lower Whisker: -17907.0\n",
      "number of outliers: 937\n",
      "max outlier value: 111850\n",
      "min outlier value: 31816\n"
     ]
    }
   ],
   "source": [
    "df = pd.read_csv(file_path)\n",
    "#Analyze the \"Population\" variable\n",
    "treatOutlier(df, \"Population\")"
   ]
  },
  {
   "cell_type": "code",
   "execution_count": 11,
   "id": "d0fdce51-297e-40fe-b275-649bf5677f41",
   "metadata": {
    "tags": []
   },
   "outputs": [
    {
     "data": {
      "text/plain": [
       "<Axes: xlabel='Children'>"
      ]
     },
     "execution_count": 11,
     "metadata": {},
     "output_type": "execute_result"
    },
    {
     "data": {
      "image/png": "[encoded data removed]",
      "text/plain": [
       "<Figure size 640x480 with 1 Axes>"
      ]
     },
     "metadata": {},
     "output_type": "display_data"
    }
   ],
   "source": [
    "#Create boxplot for the \"Children\" column\n",
    "sns.boxplot(x=df[\"Children\"])"
   ]
  },
  {
   "cell_type": "code",
   "execution_count": 12,
   "id": "8b7eae25-8808-4a73-afa7-a8ae60d7db39",
   "metadata": {
    "tags": []
   },
   "outputs": [
    {
     "name": "stdout",
     "output_type": "stream",
     "text": [
      "sd: 1.9259711021894639\n",
      "count    10000.000000\n",
      "mean         1.822500\n",
      "std          1.925971\n",
      "min          0.000000\n",
      "10%          0.000000\n",
      "25%          1.000000\n",
      "50%          1.000000\n",
      "75%          3.000000\n",
      "90%          4.000000\n",
      "95%          6.000000\n",
      "99%          9.000000\n",
      "99.9%       10.000000\n",
      "100%        10.000000\n",
      "max         10.000000\n",
      "Name: Children, dtype: float64\n",
      "Q1: 1.0\n",
      "Q3: 3.0\n",
      "Q2: 1.0\n",
      "IQR: 2.0\n",
      "Upper Whisker: 6.0\n",
      "Lower Whisker: -2.0\n",
      "number of outliers: 451\n",
      "max outlier value: 10.0\n",
      "min outlier value: 7.0\n"
     ]
    }
   ],
   "source": [
    "#Analyze the \"Children\" variable\n",
    "treatOutlier(df, \"Children\")"
   ]
  },
  {
   "cell_type": "code",
   "execution_count": 13,
   "id": "b2581f48-4eea-4285-842b-0ea72a7f9a44",
   "metadata": {
    "tags": []
   },
   "outputs": [
    {
     "data": {
      "text/plain": [
       "<Axes: xlabel='Age'>"
      ]
     },
     "execution_count": 13,
     "metadata": {},
     "output_type": "execute_result"
    },
    {
     "data": {
      "image/png": "[encoded data removed]",
      "text/plain": [
       "<Figure size 640x480 with 1 Axes>"
      ]
     },
     "metadata": {},
     "output_type": "display_data"
    }
   ],
   "source": [
    "#Create boxplot for the \"Age\" column\n",
    "sns.boxplot(x=df[\"Age\"])"
   ]
  },
  {
   "cell_type": "code",
   "execution_count": 14,
   "id": "3a4e43ab-0873-44b8-8918-1ee0b7503a3b",
   "metadata": {
    "tags": []
   },
   "outputs": [
    {
     "name": "stdout",
     "output_type": "stream",
     "text": [
      "sd: 18.003456784618603\n",
      "count    10000.000000\n",
      "mean        53.207500\n",
      "std         18.003457\n",
      "min         18.000000\n",
      "10%         27.000000\n",
      "25%         41.000000\n",
      "50%         53.000000\n",
      "75%         65.000000\n",
      "90%         80.000000\n",
      "95%         84.000000\n",
      "99%         88.000000\n",
      "99.9%       89.000000\n",
      "100%        89.000000\n",
      "max         89.000000\n",
      "Name: Age, dtype: float64\n",
      "Q1: 41.0\n",
      "Q3: 65.0\n",
      "Q2: 53.0\n",
      "IQR: 24.0\n",
      "Upper Whisker: 101.0\n",
      "Lower Whisker: 5.0\n",
      "number of outliers: 0\n",
      "max outlier value: nan\n",
      "min outlier value: nan\n"
     ]
    }
   ],
   "source": [
    "#Analyze the \"Age\" variable\n",
    "treatOutlier(df, \"Age\")"
   ]
  },
  {
   "cell_type": "code",
   "execution_count": 15,
   "id": "9c03a142-0382-4634-a0ee-6b04e79ace5e",
   "metadata": {
    "tags": []
   },
   "outputs": [
    {
     "data": {
      "text/plain": [
       "<Axes: xlabel='Income'>"
      ]
     },
     "execution_count": 15,
     "metadata": {},
     "output_type": "execute_result"
    },
    {
     "data": {
      "image/png": "[encoded data removed]",
      "text/plain": [
       "<Figure size 640x480 with 1 Axes>"
      ]
     },
     "metadata": {},
     "output_type": "display_data"
    }
   ],
   "source": [
    "#Create boxplot for the \"Income\" column\n",
    "sns.boxplot(x=df[\"Income\"])"
   ]
  },
  {
   "cell_type": "code",
   "execution_count": 16,
   "id": "4f705ed5-3616-46cd-b6c5-0c81ad2e4d13",
   "metadata": {
    "tags": []
   },
   "outputs": [
    {
     "name": "stdout",
     "output_type": "stream",
     "text": [
      "sd: 24747.872760841317\n",
      "count     10000.000000\n",
      "mean      38256.017897\n",
      "std       24747.872761\n",
      "min         740.660000\n",
      "10%       12711.105000\n",
      "25%       23660.790000\n",
      "50%       33186.785000\n",
      "75%       45504.192500\n",
      "90%       71003.771000\n",
      "95%       87433.556500\n",
      "99%      126807.764000\n",
      "99.9%    172372.711910\n",
      "100%     258900.700000\n",
      "max      258900.700000\n",
      "Name: Income, dtype: float64\n",
      "Q1: 23660.79\n",
      "Q3: 45504.1925\n",
      "Q2: 33186.785\n",
      "IQR: 21843.402499999997\n",
      "Upper Whisker: 78269.29624999998\n",
      "Lower Whisker: -9104.313749999994\n",
      "number of outliers: 759\n",
      "max outlier value: 258900.7\n",
      "min outlier value: 78272.96\n"
     ]
    }
   ],
   "source": [
    "#Analyze the \"Income\" variable\n",
    "treatOutlier(df, \"Income\")"
   ]
  },
  {
   "cell_type": "code",
   "execution_count": 17,
   "id": "0468616a-ef48-4b11-b4a4-9ce0a10bb897",
   "metadata": {
    "tags": []
   },
   "outputs": [
    {
     "data": {
      "text/plain": [
       "<Axes: xlabel='Outage_sec_perweek'>"
      ]
     },
     "execution_count": 17,
     "metadata": {},
     "output_type": "execute_result"
    },
    {
     "data": {
      "image/png": "[encoded data removed]",
      "text/plain": [
       "<Figure size 640x480 with 1 Axes>"
      ]
     },
     "metadata": {},
     "output_type": "display_data"
    }
   ],
   "source": [
    "#Create boxplot for the \"Outage_sec_perweek\" column\n",
    "sns.boxplot(x=df[\"Outage_sec_perweek\"])"
   ]
  },
  {
   "cell_type": "code",
   "execution_count": 18,
   "id": "394f3b9f-0357-4c6f-81e0-9a3313875abc",
   "metadata": {
    "tags": []
   },
   "outputs": [
    {
     "name": "stdout",
     "output_type": "stream",
     "text": [
      "sd: 7.02592095478377\n",
      "count    10000.000000\n",
      "mean        11.452955\n",
      "std          7.025921\n",
      "min         -1.348571\n",
      "10%          6.112013\n",
      "25%          8.054362\n",
      "50%         10.202896\n",
      "75%         12.487644\n",
      "90%         15.114312\n",
      "95%         21.657349\n",
      "99%         41.275592\n",
      "99.9%       45.067223\n",
      "100%        47.049280\n",
      "max         47.049280\n",
      "Name: Outage_sec_perweek, dtype: float64\n",
      "Q1: 8.054362000000001\n",
      "Q3: 12.487643622499998\n",
      "Q2: 10.20289623\n",
      "IQR: 4.433281622499997\n",
      "Upper Whisker: 19.137566056249995\n",
      "Lower Whisker: 1.404439566250005\n",
      "number of outliers: 539\n",
      "max outlier value: 47.04928\n",
      "min outlier value: -1.348571\n"
     ]
    }
   ],
   "source": [
    "#Analyze the \"Outage_sec_perweek\" variable\n",
    "treatOutlier(df, \"Outage_sec_perweek\")"
   ]
  },
  {
   "cell_type": "code",
   "execution_count": 19,
   "id": "bfed89bc-2fbf-4880-93c9-04f8f343bde3",
   "metadata": {
    "tags": []
   },
   "outputs": [
    {
     "data": {
      "text/plain": [
       "<Axes: xlabel='Email'>"
      ]
     },
     "execution_count": 19,
     "metadata": {},
     "output_type": "execute_result"
    },
    {
     "data": {
      "image/png": "[encoded data removed]",
      "text/plain": [
       "<Figure size 640x480 with 1 Axes>"
      ]
     },
     "metadata": {},
     "output_type": "display_data"
    }
   ],
   "source": [
    "#Create boxplot for the \"Email\" column\n",
    "sns.boxplot(x=df[\"Email\"])"
   ]
  },
  {
   "cell_type": "code",
   "execution_count": 20,
   "id": "7620ee1c-9014-4d2d-8b97-5ee74637f37e",
   "metadata": {
    "tags": []
   },
   "outputs": [
    {
     "name": "stdout",
     "output_type": "stream",
     "text": [
      "sd: 3.025898148642877\n",
      "count    10000.000000\n",
      "mean        12.016000\n",
      "std          3.025898\n",
      "min          1.000000\n",
      "10%          8.000000\n",
      "25%         10.000000\n",
      "50%         12.000000\n",
      "75%         14.000000\n",
      "90%         16.000000\n",
      "95%         17.000000\n",
      "99%         19.000000\n",
      "99.9%       21.000000\n",
      "100%        23.000000\n",
      "max         23.000000\n",
      "Name: Email, dtype: float64\n",
      "Q1: 10.0\n",
      "Q3: 14.0\n",
      "Q2: 12.0\n",
      "IQR: 4.0\n",
      "Upper Whisker: 20.0\n",
      "Lower Whisker: 4.0\n",
      "number of outliers: 38\n",
      "max outlier value: 23\n",
      "min outlier value: 1\n"
     ]
    }
   ],
   "source": [
    "#Analyze the \"Email\" variable\n",
    "treatOutlier(df, \"Email\")"
   ]
  },
  {
   "cell_type": "code",
   "execution_count": 21,
   "id": "24a1d5fb-4516-4e10-9e22-cb5a67ab3c8a",
   "metadata": {
    "tags": []
   },
   "outputs": [
    {
     "data": {
      "text/plain": [
       "<Axes: xlabel='Contacts'>"
      ]
     },
     "execution_count": 21,
     "metadata": {},
     "output_type": "execute_result"
    },
    {
     "data": {
      "image/png": "[encoded data removed]",
      "text/plain": [
       "<Figure size 640x480 with 1 Axes>"
      ]
     },
     "metadata": {},
     "output_type": "display_data"
    }
   ],
   "source": [
    "#Create boxplot for the \"Contacts\" column\n",
    "sns.boxplot(x=df[\"Contacts\"])"
   ]
  },
  {
   "cell_type": "code",
   "execution_count": 22,
   "id": "f8eeff4c-9f0d-41e3-b00d-44340e63415c",
   "metadata": {
    "tags": []
   },
   "outputs": [
    {
     "name": "stdout",
     "output_type": "stream",
     "text": [
      "sd: 0.9884655109848903\n",
      "count    10000.000000\n",
      "mean         0.994200\n",
      "std          0.988466\n",
      "min          0.000000\n",
      "10%          0.000000\n",
      "25%          0.000000\n",
      "50%          1.000000\n",
      "75%          2.000000\n",
      "90%          2.000000\n",
      "95%          3.000000\n",
      "99%          4.000000\n",
      "99.9%        5.000000\n",
      "100%         7.000000\n",
      "max          7.000000\n",
      "Name: Contacts, dtype: float64\n",
      "Q1: 0.0\n",
      "Q3: 2.0\n",
      "Q2: 1.0\n",
      "IQR: 2.0\n",
      "Upper Whisker: 5.0\n",
      "Lower Whisker: -3.0\n",
      "number of outliers: 8\n",
      "max outlier value: 7\n",
      "min outlier value: 6\n"
     ]
    }
   ],
   "source": [
    "#Analyze the \"Contacts\" variable\n",
    "treatOutlier(df, \"Contacts\")"
   ]
  },
  {
   "cell_type": "code",
   "execution_count": 23,
   "id": "41d526c6-ca20-47a1-ab81-071d10027f7c",
   "metadata": {
    "tags": []
   },
   "outputs": [
    {
     "data": {
      "text/plain": [
       "<Axes: xlabel='Yearly_equip_failure'>"
      ]
     },
     "execution_count": 23,
     "metadata": {},
     "output_type": "execute_result"
    },
    {
     "data": {
      "image/png": "[encoded data removed]",
      "text/plain": [
       "<Figure size 640x480 with 1 Axes>"
      ]
     },
     "metadata": {},
     "output_type": "display_data"
    }
   ],
   "source": [
    "#Create boxplot for the \"Yearly_equip_failure\" column\n",
    "sns.boxplot(x=df[\"Yearly_equip_failure\"])"
   ]
  },
  {
   "cell_type": "code",
   "execution_count": 24,
   "id": "e4632d9c-fcf7-41f0-a6d7-608d9430d5bd",
   "metadata": {
    "tags": []
   },
   "outputs": [
    {
     "name": "stdout",
     "output_type": "stream",
     "text": [
      "sd: 0.6359531772420812\n",
      "count    10000.000000\n",
      "mean         0.398000\n",
      "std          0.635953\n",
      "min          0.000000\n",
      "10%          0.000000\n",
      "25%          0.000000\n",
      "50%          0.000000\n",
      "75%          1.000000\n",
      "90%          1.000000\n",
      "95%          2.000000\n",
      "99%          2.000000\n",
      "99.9%        3.000000\n",
      "100%         6.000000\n",
      "max          6.000000\n",
      "Name: Yearly_equip_failure, dtype: float64\n",
      "Q1: 0.0\n",
      "Q3: 1.0\n",
      "Q2: 0.0\n",
      "IQR: 1.0\n",
      "Upper Whisker: 2.5\n",
      "Lower Whisker: -1.5\n",
      "number of outliers: 94\n",
      "max outlier value: 6\n",
      "min outlier value: 3\n"
     ]
    }
   ],
   "source": [
    "#Analyze the \"Yearly_equip_failure\" variable\n",
    "treatOutlier(df, \"Yearly_equip_failure\") "
   ]
  },
  {
   "cell_type": "code",
   "execution_count": 25,
   "id": "859517f4-ec11-439a-9abc-7570154e4ca5",
   "metadata": {
    "tags": []
   },
   "outputs": [
    {
     "data": {
      "text/plain": [
       "<Axes: xlabel='Tenure'>"
      ]
     },
     "execution_count": 25,
     "metadata": {},
     "output_type": "execute_result"
    },
    {
     "data": {
      "image/png": "[encoded data removed]",
      "text/plain": [
       "<Figure size 640x480 with 1 Axes>"
      ]
     },
     "metadata": {},
     "output_type": "display_data"
    }
   ],
   "source": [
    "#Create boxplot for the \"Tenure\" column\n",
    "sns.boxplot(x=df[\"Tenure\"])"
   ]
  },
  {
   "cell_type": "code",
   "execution_count": 26,
   "id": "67a4f0e5-eee1-499b-9d23-a5138736f0ff",
   "metadata": {
    "tags": []
   },
   "outputs": [
    {
     "name": "stdout",
     "output_type": "stream",
     "text": [
      "sd: 25.182812005537077\n",
      "count    10000.000000\n",
      "mean        34.656864\n",
      "std         25.182812\n",
      "min          1.000259\n",
      "10%          3.954279\n",
      "25%          8.700329\n",
      "50%         36.196030\n",
      "75%         60.153487\n",
      "90%         67.450641\n",
      "95%         69.802892\n",
      "99%         71.541154\n",
      "99.9%       71.957135\n",
      "100%        71.999280\n",
      "max         71.999280\n",
      "Name: Tenure, dtype: float64\n",
      "Q1: 8.700329255749999\n",
      "Q3: 60.1534875\n",
      "Q2: 36.19603\n",
      "IQR: 51.45315824425\n",
      "Upper Whisker: 137.333224866375\n",
      "Lower Whisker: -68.479408110625\n",
      "number of outliers: 0\n",
      "max outlier value: nan\n",
      "min outlier value: nan\n"
     ]
    }
   ],
   "source": [
    "#Analyze the \"Tenure\" variable\n",
    "treatOutlier(df, \"Tenure\") "
   ]
  },
  {
   "cell_type": "code",
   "execution_count": 27,
   "id": "c7b37201-bfcd-4754-91cd-814f45aa2435",
   "metadata": {
    "tags": []
   },
   "outputs": [
    {
     "data": {
      "text/plain": [
       "<Axes: xlabel='MonthlyCharge'>"
      ]
     },
     "execution_count": 27,
     "metadata": {},
     "output_type": "execute_result"
    },
    {
     "data": {
      "image/png": "[encoded data removed]",
      "text/plain": [
       "<Figure size 640x480 with 1 Axes>"
      ]
     },
     "metadata": {},
     "output_type": "display_data"
    }
   ],
   "source": [
    "#Create boxplot for the \"MonthlyCharge\" column\n",
    "sns.boxplot(x=df[\"MonthlyCharge\"])"
   ]
  },
  {
   "cell_type": "code",
   "execution_count": 28,
   "id": "4e025980-3809-4c2b-b8c9-e3cbebbbb033",
   "metadata": {
    "tags": []
   },
   "outputs": [
    {
     "name": "stdout",
     "output_type": "stream",
     "text": [
      "sd: 43.33547318024725\n",
      "count    10000.000000\n",
      "mean       174.076305\n",
      "std         43.335473\n",
      "min         77.505230\n",
      "10%        120.340354\n",
      "25%        141.071078\n",
      "50%        169.915400\n",
      "75%        203.777441\n",
      "90%        238.683060\n",
      "95%        253.824616\n",
      "99%        275.859482\n",
      "99.9%      291.935547\n",
      "100%       315.878600\n",
      "max        315.878600\n",
      "Name: MonthlyCharge, dtype: float64\n",
      "Q1: 141.07107845\n",
      "Q3: 203.777441275\n",
      "Q2: 169.9154\n",
      "IQR: 62.706362825000014\n",
      "Upper Whisker: 297.8369855125\n",
      "Lower Whisker: 47.01153421249997\n",
      "number of outliers: 5\n",
      "max outlier value: 315.8786\n",
      "min outlier value: 298.1730235\n"
     ]
    }
   ],
   "source": [
    "#Analyze the \"MonthlyCharge\" variable\n",
    "treatOutlier(df, \"MonthlyCharge\")"
   ]
  },
  {
   "cell_type": "code",
   "execution_count": 29,
   "id": "fefbb2c5-349b-4d3c-b663-ae9e7383b132",
   "metadata": {
    "tags": []
   },
   "outputs": [
    {
     "data": {
      "text/plain": [
       "<Axes: xlabel='Bandwidth_GB_Year'>"
      ]
     },
     "execution_count": 29,
     "metadata": {},
     "output_type": "execute_result"
    },
    {
     "data": {
      "image/png": "[encoded data removed]",
      "text/plain": [
       "<Figure size 640x480 with 1 Axes>"
      ]
     },
     "metadata": {},
     "output_type": "display_data"
    }
   ],
   "source": [
    "#Create boxplot for the \"Bandwidth_GB_Year\" column\n",
    "sns.boxplot(x=df[\"Bandwidth_GB_Year\"])"
   ]
  },
  {
   "cell_type": "code",
   "execution_count": 30,
   "id": "52844ffa-c6d0-4e73-9b37-84583a7b4550",
   "metadata": {
    "tags": []
   },
   "outputs": [
    {
     "name": "stdout",
     "output_type": "stream",
     "text": [
      "sd: 2072.7185747276853\n",
      "count    10000.000000\n",
      "mean      3397.166397\n",
      "std       2072.718575\n",
      "min        155.506715\n",
      "10%        842.435583\n",
      "25%       1312.130487\n",
      "50%       3382.424000\n",
      "75%       5466.284500\n",
      "90%       6094.402900\n",
      "95%       6343.389900\n",
      "99%       6716.653880\n",
      "99.9%     6988.588069\n",
      "100%      7158.982000\n",
      "max       7158.982000\n",
      "Name: Bandwidth_GB_Year, dtype: float64\n",
      "Q1: 1312.130487\n",
      "Q3: 5466.2845\n",
      "Q2: 3382.424\n",
      "IQR: 4154.154012999999\n",
      "Upper Whisker: 11697.515519499999\n",
      "Lower Whisker: -4919.100532499999\n",
      "number of outliers: 0\n",
      "max outlier value: nan\n",
      "min outlier value: nan\n"
     ]
    }
   ],
   "source": [
    "#Analyze the \"Bandwidth_GB_Year\" variable\n",
    "treatOutlier(df, \"Bandwidth_GB_Year\")"
   ]
  },
  {
   "cell_type": "code",
   "execution_count": 31,
   "id": "d81eb0d9-eb57-4d5e-9603-28d0a1fa4bf1",
   "metadata": {
    "tags": []
   },
   "outputs": [
    {
     "data": {
      "text/plain": [
       "<Axes: xlabel='item1'>"
      ]
     },
     "execution_count": 31,
     "metadata": {},
     "output_type": "execute_result"
    },
    {
     "data": {
      "image/png": "[encoded data removed]",
      "text/plain": [
       "<Figure size 640x480 with 1 Axes>"
      ]
     },
     "metadata": {},
     "output_type": "display_data"
    }
   ],
   "source": [
    "#Create boxplot for the \"item1\" column\n",
    "sns.boxplot(x=df[\"item1\"])"
   ]
  },
  {
   "cell_type": "code",
   "execution_count": 32,
   "id": "ec5afeea-723d-474c-9724-96310cd5d23e",
   "metadata": {
    "tags": []
   },
   "outputs": [
    {
     "name": "stdout",
     "output_type": "stream",
     "text": [
      "sd: 1.0377972163704643\n",
      "count    10000.000000\n",
      "mean         3.490800\n",
      "std          1.037797\n",
      "min          1.000000\n",
      "10%          2.000000\n",
      "25%          3.000000\n",
      "50%          3.000000\n",
      "75%          4.000000\n",
      "90%          5.000000\n",
      "95%          5.000000\n",
      "99%          6.000000\n",
      "99.9%        7.000000\n",
      "100%         7.000000\n",
      "max          7.000000\n",
      "Name: item1, dtype: float64\n",
      "Q1: 3.0\n",
      "Q3: 4.0\n",
      "Q2: 3.0\n",
      "IQR: 1.0\n",
      "Upper Whisker: 5.5\n",
      "Lower Whisker: 1.5\n",
      "number of outliers: 442\n",
      "max outlier value: 7\n",
      "min outlier value: 1\n"
     ]
    }
   ],
   "source": [
    "#Analyze the \"item1\" variable\n",
    "treatOutlier(df, \"item1\")"
   ]
  },
  {
   "cell_type": "code",
   "execution_count": 33,
   "id": "80437b05-6011-4045-bde4-f02cb164027b",
   "metadata": {
    "tags": []
   },
   "outputs": [
    {
     "data": {
      "text/plain": [
       "<Axes: xlabel='item2'>"
      ]
     },
     "execution_count": 33,
     "metadata": {},
     "output_type": "execute_result"
    },
    {
     "data": {
      "image/png": "[encoded data removed]",
      "text/plain": [
       "<Figure size 640x480 with 1 Axes>"
      ]
     },
     "metadata": {},
     "output_type": "display_data"
    }
   ],
   "source": [
    "#Create boxplot for the \"item2\" column\n",
    "sns.boxplot(x=df[\"item2\"])"
   ]
  },
  {
   "cell_type": "code",
   "execution_count": 34,
   "id": "469adff1-5bf3-45ac-84d8-be38290a7700",
   "metadata": {
    "tags": []
   },
   "outputs": [
    {
     "name": "stdout",
     "output_type": "stream",
     "text": [
      "sd: 1.034640535695296\n",
      "count    10000.000000\n",
      "mean         3.505100\n",
      "std          1.034641\n",
      "min          1.000000\n",
      "10%          2.000000\n",
      "25%          3.000000\n",
      "50%          4.000000\n",
      "75%          4.000000\n",
      "90%          5.000000\n",
      "95%          5.000000\n",
      "99%          6.000000\n",
      "99.9%        7.000000\n",
      "100%         7.000000\n",
      "max          7.000000\n",
      "Name: item2, dtype: float64\n",
      "Q1: 3.0\n",
      "Q3: 4.0\n",
      "Q2: 4.0\n",
      "IQR: 1.0\n",
      "Upper Whisker: 5.5\n",
      "Lower Whisker: 1.5\n",
      "number of outliers: 445\n",
      "max outlier value: 7\n",
      "min outlier value: 1\n"
     ]
    }
   ],
   "source": [
    "#Analyze the \"item2\" variable\n",
    "treatOutlier(df, \"item2\")"
   ]
  },
  {
   "cell_type": "code",
   "execution_count": 35,
   "id": "cf96f765-6a70-4f38-9ff6-19a4f9eb50b7",
   "metadata": {
    "tags": []
   },
   "outputs": [
    {
     "data": {
      "text/plain": [
       "<Axes: xlabel='item3'>"
      ]
     },
     "execution_count": 35,
     "metadata": {},
     "output_type": "execute_result"
    },
    {
     "data": {
      "image/png": "[encoded data removed]",
      "text/plain": [
       "<Figure size 640x480 with 1 Axes>"
      ]
     },
     "metadata": {},
     "output_type": "display_data"
    }
   ],
   "source": [
    "#Create boxplot for the \"item3\" column\n",
    "sns.boxplot(x=df[\"item3\"])"
   ]
  },
  {
   "cell_type": "code",
   "execution_count": 36,
   "id": "88844549-5681-4770-a9db-3e97638efb37",
   "metadata": {
    "tags": []
   },
   "outputs": [
    {
     "name": "stdout",
     "output_type": "stream",
     "text": [
      "sd: 1.0279769810979809\n",
      "count    10000.000000\n",
      "mean         3.487000\n",
      "std          1.027977\n",
      "min          1.000000\n",
      "10%          2.000000\n",
      "25%          3.000000\n",
      "50%          3.000000\n",
      "75%          4.000000\n",
      "90%          5.000000\n",
      "95%          5.000000\n",
      "99%          6.000000\n",
      "99.9%        7.000000\n",
      "100%         8.000000\n",
      "max          8.000000\n",
      "Name: item3, dtype: float64\n",
      "Q1: 3.0\n",
      "Q3: 4.0\n",
      "Q2: 3.0\n",
      "IQR: 1.0\n",
      "Upper Whisker: 5.5\n",
      "Lower Whisker: 1.5\n",
      "number of outliers: 418\n",
      "max outlier value: 8\n",
      "min outlier value: 1\n"
     ]
    }
   ],
   "source": [
    "#Analyze the \"item3\" variable\n",
    "treatOutlier(df, \"item3\")"
   ]
  },
  {
   "cell_type": "code",
   "execution_count": 37,
   "id": "af9c41b6-aa33-47e3-8ab4-aa9e0409ca2b",
   "metadata": {
    "tags": []
   },
   "outputs": [
    {
     "data": {
      "text/plain": [
       "<Axes: xlabel='item4'>"
      ]
     },
     "execution_count": 37,
     "metadata": {},
     "output_type": "execute_result"
    },
    {
     "data": {
      "image/png": "[encoded data removed]",
      "text/plain": [
       "<Figure size 640x480 with 1 Axes>"
      ]
     },
     "metadata": {},
     "output_type": "display_data"
    }
   ],
   "source": [
    "#Create boxplot for the \"item4\" column\n",
    "sns.boxplot(x=df[\"item4\"])"
   ]
  },
  {
   "cell_type": "code",
   "execution_count": 38,
   "id": "17f2aa8f-2be4-40ca-b1a2-b6513d80debc",
   "metadata": {
    "tags": []
   },
   "outputs": [
    {
     "name": "stdout",
     "output_type": "stream",
     "text": [
      "sd: 1.0258162505526822\n",
      "count    10000.000000\n",
      "mean         3.497500\n",
      "std          1.025816\n",
      "min          1.000000\n",
      "10%          2.000000\n",
      "25%          3.000000\n",
      "50%          3.000000\n",
      "75%          4.000000\n",
      "90%          5.000000\n",
      "95%          5.000000\n",
      "99%          6.000000\n",
      "99.9%        6.000000\n",
      "100%         7.000000\n",
      "max          7.000000\n",
      "Name: item4, dtype: float64\n",
      "Q1: 3.0\n",
      "Q3: 4.0\n",
      "Q2: 3.0\n",
      "IQR: 1.0\n",
      "Upper Whisker: 5.5\n",
      "Lower Whisker: 1.5\n",
      "number of outliers: 433\n",
      "max outlier value: 7\n",
      "min outlier value: 1\n"
     ]
    }
   ],
   "source": [
    "#Analyze the \"item4\" variable\n",
    "treatOutlier(df, \"item4\")"
   ]
  },
  {
   "cell_type": "code",
   "execution_count": 39,
   "id": "a3eaf903-a3d0-4d2a-bfcb-31da03c35914",
   "metadata": {
    "tags": []
   },
   "outputs": [
    {
     "data": {
      "text/plain": [
       "<Axes: xlabel='item5'>"
      ]
     },
     "execution_count": 39,
     "metadata": {},
     "output_type": "execute_result"
    },
    {
     "data": {
      "image/png": "[encoded data removed]",
      "text/plain": [
       "<Figure size 640x480 with 1 Axes>"
      ]
     },
     "metadata": {},
     "output_type": "display_data"
    }
   ],
   "source": [
    "#Create boxplot for the \"item5\" column\n",
    "sns.boxplot(x=df[\"item5\"])"
   ]
  },
  {
   "cell_type": "code",
   "execution_count": 40,
   "id": "06a61567-b7e5-47bd-8357-221e8b9c0b08",
   "metadata": {
    "tags": []
   },
   "outputs": [
    {
     "name": "stdout",
     "output_type": "stream",
     "text": [
      "sd: 1.0248193086888684\n",
      "count    10000.000000\n",
      "mean         3.492900\n",
      "std          1.024819\n",
      "min          1.000000\n",
      "10%          2.000000\n",
      "25%          3.000000\n",
      "50%          3.000000\n",
      "75%          4.000000\n",
      "90%          5.000000\n",
      "95%          5.000000\n",
      "99%          6.000000\n",
      "99.9%        7.000000\n",
      "100%         7.000000\n",
      "max          7.000000\n",
      "Name: item5, dtype: float64\n",
      "Q1: 3.0\n",
      "Q3: 4.0\n",
      "Q2: 3.0\n",
      "IQR: 1.0\n",
      "Upper Whisker: 5.5\n",
      "Lower Whisker: 1.5\n",
      "number of outliers: 422\n",
      "max outlier value: 7\n",
      "min outlier value: 1\n"
     ]
    }
   ],
   "source": [
    "#Analyze the \"item5\" variable\n",
    "treatOutlier(df, \"item5\")"
   ]
  },
  {
   "cell_type": "code",
   "execution_count": 41,
   "id": "2c71c5bc-1bb0-4e81-a3c9-0076be7ad6fa",
   "metadata": {
    "tags": []
   },
   "outputs": [
    {
     "data": {
      "text/plain": [
       "<Axes: xlabel='item6'>"
      ]
     },
     "execution_count": 41,
     "metadata": {},
     "output_type": "execute_result"
    },
    {
     "data": {
      "image/png": "[encoded data removed]",
      "text/plain": [
       "<Figure size 640x480 with 1 Axes>"
      ]
     },
     "metadata": {},
     "output_type": "display_data"
    }
   ],
   "source": [
    "#Create boxplot for the \"item6\" column\n",
    "sns.boxplot(x=df[\"item6\"])"
   ]
  },
  {
   "cell_type": "code",
   "execution_count": 42,
   "id": "32f45f97-3488-47b7-a8f3-7b55eb29407b",
   "metadata": {
    "tags": []
   },
   "outputs": [
    {
     "name": "stdout",
     "output_type": "stream",
     "text": [
      "sd: 1.0335857680685943\n",
      "count    10000.000000\n",
      "mean         3.497300\n",
      "std          1.033586\n",
      "min          1.000000\n",
      "10%          2.000000\n",
      "25%          3.000000\n",
      "50%          3.000000\n",
      "75%          4.000000\n",
      "90%          5.000000\n",
      "95%          5.000000\n",
      "99%          6.000000\n",
      "99.9%        7.000000\n",
      "100%         8.000000\n",
      "max          8.000000\n",
      "Name: item6, dtype: float64\n",
      "Q1: 3.0\n",
      "Q3: 4.0\n",
      "Q2: 3.0\n",
      "IQR: 1.0\n",
      "Upper Whisker: 5.5\n",
      "Lower Whisker: 1.5\n",
      "number of outliers: 413\n",
      "max outlier value: 8\n",
      "min outlier value: 1\n"
     ]
    }
   ],
   "source": [
    "#Analyze the \"item6\" variable\n",
    "treatOutlier(df, \"item6\")"
   ]
  },
  {
   "cell_type": "code",
   "execution_count": 43,
   "id": "9647437e-82cd-45d2-adc4-c2d68b00cc2a",
   "metadata": {
    "tags": []
   },
   "outputs": [
    {
     "data": {
      "text/plain": [
       "<Axes: xlabel='item7'>"
      ]
     },
     "execution_count": 43,
     "metadata": {},
     "output_type": "execute_result"
    },
    {
     "data": {
      "image/png": "[encoded data removed]",
      "text/plain": [
       "<Figure size 640x480 with 1 Axes>"
      ]
     },
     "metadata": {},
     "output_type": "display_data"
    }
   ],
   "source": [
    "#Create boxplot for the \"item7\" column\n",
    "sns.boxplot(x=df[\"item7\"])"
   ]
  },
  {
   "cell_type": "code",
   "execution_count": 44,
   "id": "38a6f6de-8a4e-4bbc-8015-e867c0752e00",
   "metadata": {
    "tags": []
   },
   "outputs": [
    {
     "name": "stdout",
     "output_type": "stream",
     "text": [
      "sd: 1.028501595308982\n",
      "count    10000.000000\n",
      "mean         3.509500\n",
      "std          1.028502\n",
      "min          1.000000\n",
      "10%          2.000000\n",
      "25%          3.000000\n",
      "50%          4.000000\n",
      "75%          4.000000\n",
      "90%          5.000000\n",
      "95%          5.000000\n",
      "99%          6.000000\n",
      "99.9%        7.000000\n",
      "100%         7.000000\n",
      "max          7.000000\n",
      "Name: item7, dtype: float64\n",
      "Q1: 3.0\n",
      "Q3: 4.0\n",
      "Q2: 4.0\n",
      "IQR: 1.0\n",
      "Upper Whisker: 5.5\n",
      "Lower Whisker: 1.5\n",
      "number of outliers: 454\n",
      "max outlier value: 7\n",
      "min outlier value: 1\n"
     ]
    }
   ],
   "source": [
    "#Analyze the \"item7\" variable\n",
    "treatOutlier(df, \"item7\")"
   ]
  },
  {
   "cell_type": "code",
   "execution_count": 45,
   "id": "6fa94eed-7e58-46ca-b30f-f9aae6e78c4a",
   "metadata": {
    "tags": []
   },
   "outputs": [
    {
     "data": {
      "text/plain": [
       "<Axes: xlabel='item8'>"
      ]
     },
     "execution_count": 45,
     "metadata": {},
     "output_type": "execute_result"
    },
    {
     "data": {
      "image/png": "[encoded data removed]",
      "text/plain": [
       "<Figure size 640x480 with 1 Axes>"
      ]
     },
     "metadata": {},
     "output_type": "display_data"
    }
   ],
   "source": [
    "#Create boxplot for the \"item8\" column\n",
    "sns.boxplot(x=df[\"item8\"])"
   ]
  },
  {
   "cell_type": "code",
   "execution_count": 46,
   "id": "932b8acf-7964-4dfa-8ed5-de03d0ae3d02",
   "metadata": {
    "tags": []
   },
   "outputs": [
    {
     "name": "stdout",
     "output_type": "stream",
     "text": [
      "sd: 1.0286332916276941\n",
      "count    10000.000000\n",
      "mean         3.495600\n",
      "std          1.028633\n",
      "min          1.000000\n",
      "10%          2.000000\n",
      "25%          3.000000\n",
      "50%          3.000000\n",
      "75%          4.000000\n",
      "90%          5.000000\n",
      "95%          5.000000\n",
      "99%          6.000000\n",
      "99.9%        7.000000\n",
      "100%         8.000000\n",
      "max          8.000000\n",
      "Name: item8, dtype: float64\n",
      "Q1: 3.0\n",
      "Q3: 4.0\n",
      "Q2: 3.0\n",
      "IQR: 1.0\n",
      "Upper Whisker: 5.5\n",
      "Lower Whisker: 1.5\n",
      "number of outliers: 426\n",
      "max outlier value: 8\n",
      "min outlier value: 1\n"
     ]
    }
   ],
   "source": [
    "#Analyze the \"item8\" variable\n",
    "treatOutlier(df, \"item8\")"
   ]
  },
  {
   "cell_type": "code",
   "execution_count": 47,
   "id": "84e10941-0e63-4eb9-923c-d0446e895e59",
   "metadata": {
    "tags": []
   },
   "outputs": [
    {
     "data": {
      "text/plain": [
       "<Axes: xlabel='CaseOrder'>"
      ]
     },
     "execution_count": 47,
     "metadata": {},
     "output_type": "execute_result"
    },
    {
     "data": {
      "image/png": "[encoded data removed]",
      "text/plain": [
       "<Figure size 640x480 with 1 Axes>"
      ]
     },
     "metadata": {},
     "output_type": "display_data"
    }
   ],
   "source": [
    "#Create boxplot for the \"CaseOrder\" column\n",
    "sns.boxplot(x=df[\"CaseOrder\"])"
   ]
  },
  {
   "cell_type": "code",
   "execution_count": 48,
   "id": "19e62df9-80c7-47cc-875e-4dba7895dfa5",
   "metadata": {
    "tags": []
   },
   "outputs": [
    {
     "name": "stdout",
     "output_type": "stream",
     "text": [
      "sd: 2886.8956799071675\n",
      "count    10000.00000\n",
      "mean      5000.50000\n",
      "std       2886.89568\n",
      "min          1.00000\n",
      "10%       1000.90000\n",
      "25%       2500.75000\n",
      "50%       5000.50000\n",
      "75%       7500.25000\n",
      "90%       9000.10000\n",
      "95%       9500.05000\n",
      "99%       9900.01000\n",
      "99.9%     9990.00100\n",
      "100%     10000.00000\n",
      "max      10000.00000\n",
      "Name: CaseOrder, dtype: float64\n",
      "Q1: 2500.75\n",
      "Q3: 7500.25\n",
      "Q2: 5000.5\n",
      "IQR: 4999.5\n",
      "Upper Whisker: 14999.5\n",
      "Lower Whisker: -4998.5\n",
      "number of outliers: 0\n",
      "max outlier value: nan\n",
      "min outlier value: nan\n"
     ]
    }
   ],
   "source": [
    "#Analyze the \"CaseOrder\" variable\n",
    "treatOutlier(df, \"CaseOrder\")"
   ]
  },
  {
   "cell_type": "code",
   "execution_count": 49,
   "id": "832a6bca-50a5-41c6-a32c-f817ccfd03a3",
   "metadata": {
    "tags": []
   },
   "outputs": [
    {
     "data": {
      "text/plain": [
       "<Axes: xlabel='Zip'>"
      ]
     },
     "execution_count": 49,
     "metadata": {},
     "output_type": "execute_result"
    },
    {
     "data": {
      "image/png": "[encoded data removed]",
      "text/plain": [
       "<Figure size 640x480 with 1 Axes>"
      ]
     },
     "metadata": {},
     "output_type": "display_data"
    }
   ],
   "source": [
    "#Create boxplot for the \"Zip\" column\n",
    "sns.boxplot(x=df[\"Zip\"])"
   ]
  },
  {
   "cell_type": "code",
   "execution_count": 50,
   "id": "a42ba1e2-991a-49b2-b568-eea587efaa38",
   "metadata": {
    "tags": []
   },
   "outputs": [
    {
     "name": "stdout",
     "output_type": "stream",
     "text": [
      "sd: 27532.19610782447\n",
      "count    10000.000000\n",
      "mean     49153.319600\n",
      "std      27532.196108\n",
      "min        601.000000\n",
      "10%      12511.600000\n",
      "25%      26292.500000\n",
      "50%      48869.500000\n",
      "75%      71866.500000\n",
      "90%      88204.000000\n",
      "95%      95476.000000\n",
      "99%      99141.060000\n",
      "99.9%    99786.049000\n",
      "100%     99929.000000\n",
      "max      99929.000000\n",
      "Name: Zip, dtype: float64\n",
      "Q1: 26292.5\n",
      "Q3: 71866.5\n",
      "Q2: 48869.5\n",
      "IQR: 45574.0\n",
      "Upper Whisker: 140227.5\n",
      "Lower Whisker: -42068.5\n",
      "number of outliers: 0\n",
      "max outlier value: nan\n",
      "min outlier value: nan\n"
     ]
    }
   ],
   "source": [
    "#Analyze the \"Zip\" variable\n",
    "treatOutlier(df, \"Zip\")"
   ]
  },
  {
   "cell_type": "code",
   "execution_count": 51,
   "id": "53ef9ed7-e179-4b99-a066-967310c3e6f4",
   "metadata": {
    "tags": []
   },
   "outputs": [
    {
     "data": {
      "text/plain": [
       "<Axes: xlabel='Lat'>"
      ]
     },
     "execution_count": 51,
     "metadata": {},
     "output_type": "execute_result"
    },
    {
     "data": {
      "image/png": "[encoded data removed]",
      "text/plain": [
       "<Figure size 640x480 with 1 Axes>"
      ]
     },
     "metadata": {},
     "output_type": "display_data"
    }
   ],
   "source": [
    "#Create boxplot for the \"Lat\" column\n",
    "sns.boxplot(x=df[\"Lat\"])"
   ]
  },
  {
   "cell_type": "code",
   "execution_count": 52,
   "id": "bec6bd79-c8f2-46e7-b264-9b903e88026f",
   "metadata": {
    "tags": []
   },
   "outputs": [
    {
     "name": "stdout",
     "output_type": "stream",
     "text": [
      "sd: 5.437388642740164\n",
      "count    10000.000000\n",
      "mean        38.757567\n",
      "std          5.437389\n",
      "min         17.966120\n",
      "10%         31.854840\n",
      "25%         35.341828\n",
      "50%         39.395800\n",
      "75%         42.106908\n",
      "90%         44.640570\n",
      "95%         46.445216\n",
      "99%         48.778450\n",
      "99.9%       67.477117\n",
      "100%        70.640660\n",
      "max         70.640660\n",
      "Name: Lat, dtype: float64\n",
      "Q1: 35.3418275\n",
      "Q3: 42.106907500000005\n",
      "Q2: 39.3958\n",
      "IQR: 6.765080000000005\n",
      "Upper Whisker: 52.25452750000001\n",
      "Lower Whisker: 25.194207499999994\n",
      "number of outliers: 158\n",
      "max outlier value: 70.64066\n",
      "min outlier value: 17.96612\n"
     ]
    }
   ],
   "source": [
    "#Analyze the \"Lat\" variable\n",
    "treatOutlier(df, \"Lat\")"
   ]
  },
  {
   "cell_type": "code",
   "execution_count": 53,
   "id": "39866d2e-5afe-4973-9db6-e4bea3d36319",
   "metadata": {
    "tags": []
   },
   "outputs": [
    {
     "data": {
      "text/plain": [
       "<Axes: xlabel='Lng'>"
      ]
     },
     "execution_count": 53,
     "metadata": {},
     "output_type": "execute_result"
    },
    {
     "data": {
      "image/png": "[encoded data removed]",
      "text/plain": [
       "<Figure size 640x480 with 1 Axes>"
      ]
     },
     "metadata": {},
     "output_type": "display_data"
    }
   ],
   "source": [
    "#Create boxplot for the \"Lng\" column\n",
    "sns.boxplot(x=df[\"Lng\"])"
   ]
  },
  {
   "cell_type": "code",
   "execution_count": 54,
   "id": "2ac003e3-f4cb-47fb-bcf8-5a9ca378570b",
   "metadata": {
    "tags": []
   },
   "outputs": [
    {
     "name": "stdout",
     "output_type": "stream",
     "text": [
      "sd: 15.156141522532046\n",
      "count    10000.000000\n",
      "mean       -90.782536\n",
      "std         15.156142\n",
      "min       -171.688150\n",
      "10%       -115.239730\n",
      "25%        -97.082812\n",
      "50%        -87.918800\n",
      "75%        -80.088745\n",
      "90%        -74.717810\n",
      "95%        -72.717865\n",
      "99%        -69.623071\n",
      "99.9%      -66.071878\n",
      "100%       -65.667850\n",
      "max        -65.667850\n",
      "Name: Lng, dtype: float64\n",
      "Q1: -97.08281249999999\n",
      "Q3: -80.088745\n",
      "Q2: -87.9188\n",
      "IQR: 16.994067499999986\n",
      "Upper Whisker: -54.597643750000024\n",
      "Lower Whisker: -122.57391374999997\n",
      "number of outliers: 273\n",
      "max outlier value: -122.5884\n",
      "min outlier value: -171.68815\n"
     ]
    }
   ],
   "source": [
    "#Analyze the \"Lng\" variable\n",
    "treatOutlier(df, \"Lng\")"
   ]
  },
  {
   "cell_type": "code",
   "execution_count": 55,
   "id": "e8698f86-5635-4c62-97df-7fba147dd8c9",
   "metadata": {
    "tags": []
   },
   "outputs": [
    {
     "name": "stdout",
     "output_type": "stream",
     "text": [
      "item1\n",
      "3    3448\n",
      "4    3358\n",
      "2    1393\n",
      "5    1359\n",
      "1     224\n",
      "6     199\n",
      "7      19\n",
      "Name: count, dtype: int64\n",
      "item2\n",
      "3    3415\n",
      "4    3412\n",
      "5    1368\n",
      "2    1360\n",
      "1     217\n",
      "6     215\n",
      "7      13\n",
      "Name: count, dtype: int64\n",
      "item3\n",
      "3    3435\n",
      "4    3410\n",
      "2    1424\n",
      "5    1313\n",
      "6     203\n",
      "1     202\n",
      "7      12\n",
      "8       1\n",
      "Name: count, dtype: int64\n",
      "item4\n",
      "4    3452\n",
      "3    3430\n",
      "2    1350\n",
      "5    1335\n",
      "1     221\n",
      "6     203\n",
      "7       9\n",
      "Name: count, dtype: int64\n",
      "item5\n",
      "3    3462\n",
      "4    3417\n",
      "2    1378\n",
      "5    1321\n",
      "1     206\n",
      "6     204\n",
      "7      12\n",
      "Name: count, dtype: int64\n",
      "item6\n",
      "3    3445\n",
      "4    3333\n",
      "2    1427\n",
      "5    1382\n",
      "6     210\n",
      "1     190\n",
      "7      12\n",
      "8       1\n",
      "Name: count, dtype: int64\n",
      "item7\n",
      "4    3456\n",
      "3    3446\n",
      "5    1335\n",
      "2    1309\n",
      "6     224\n",
      "1     219\n",
      "7      11\n",
      "Name: count, dtype: int64\n",
      "item8\n",
      "3    3461\n",
      "4    3400\n",
      "2    1378\n",
      "5    1335\n",
      "1     206\n",
      "6     205\n",
      "7      14\n",
      "8       1\n",
      "Name: count, dtype: int64\n"
     ]
    }
   ],
   "source": [
    "# Check value counts for items 1-8 columns [In text citation: (How to get value counts for multiple columns at once in pandas DataFrame?, 2015)]\n",
    "for i in range(1, 9):\n",
    "    column_name = f'item{i}'\n",
    "    print(df[column_name].value_counts())"
   ]
  },
  {
   "cell_type": "code",
   "execution_count": 56,
   "id": "d55fd454-97c4-415b-8818-748b4ffe5ea3",
   "metadata": {
    "tags": []
   },
   "outputs": [
    {
     "data": {
      "text/plain": [
       "Timezone\n",
       "America/New_York                  4072\n",
       "America/Chicago                   3672\n",
       "America/Los_Angeles                887\n",
       "America/Denver                     552\n",
       "America/Detroit                    265\n",
       "America/Indiana/Indianapolis       186\n",
       "America/Phoenix                    104\n",
       "America/Boise                       57\n",
       "America/Anchorage                   55\n",
       "America/Puerto_Rico                 40\n",
       "Pacific/Honolulu                    35\n",
       "America/Menominee                   16\n",
       "America/Nome                        12\n",
       "America/Kentucky/Louisville         10\n",
       "America/Sitka                        8\n",
       "America/Indiana/Vincennes            6\n",
       "America/Indiana/Tell_City            6\n",
       "America/Toronto                      5\n",
       "America/Indiana/Petersburg           4\n",
       "America/Juneau                       2\n",
       "America/North_Dakota/New_Salem       2\n",
       "America/Indiana/Knox                 1\n",
       "America/Indiana/Winamac              1\n",
       "America/Indiana/Marengo              1\n",
       "America/Ojinaga                      1\n",
       "Name: count, dtype: int64"
      ]
     },
     "execution_count": 56,
     "metadata": {},
     "output_type": "execute_result"
    }
   ],
   "source": [
    "# Check value counts for the \"Timezone\" column\n",
    "df.Timezone.value_counts()"
   ]
  },
  {
   "cell_type": "code",
   "execution_count": 57,
   "id": "769743f4-6b4f-45da-bb2a-e56466c58362",
   "metadata": {
    "tags": []
   },
   "outputs": [
    {
     "data": {
      "text/plain": [
       "Customer_id\n",
       "K409198    1\n",
       "X300173    1\n",
       "M155745    1\n",
       "G126132    1\n",
       "O148559    1\n",
       "          ..\n",
       "F454437    1\n",
       "W845098    1\n",
       "P854487    1\n",
       "K983374    1\n",
       "T38070     1\n",
       "Name: count, Length: 10000, dtype: int64"
      ]
     },
     "execution_count": 57,
     "metadata": {},
     "output_type": "execute_result"
    }
   ],
   "source": [
    "# Check value counts for the \"Customer_id\" column\n",
    "df.Customer_id.value_counts()"
   ]
  },
  {
   "cell_type": "code",
   "execution_count": 58,
   "id": "9a389b61-2d9e-4922-b1b2-71b177d22bcb",
   "metadata": {
    "tags": []
   },
   "outputs": [
    {
     "data": {
      "text/plain": [
       "Education\n",
       "Regular High School Diploma                 2421\n",
       "Bachelor's Degree                           1703\n",
       "Some College, 1 or More Years, No Degree    1562\n",
       "9th Grade to 12th Grade, No Diploma          870\n",
       "Master's Degree                              764\n",
       "Associate's Degree                           760\n",
       "Some College, Less than 1 Year               652\n",
       "Nursery School to 8th Grade                  449\n",
       "GED or Alternative Credential                387\n",
       "Professional School Degree                   198\n",
       "No Schooling Completed                       118\n",
       "Doctorate Degree                             116\n",
       "Name: count, dtype: int64"
      ]
     },
     "execution_count": 58,
     "metadata": {},
     "output_type": "execute_result"
    }
   ],
   "source": [
    "# Check value counts for the \"Education\" column\n",
    "df.Education.value_counts()"
   ]
  },
  {
   "cell_type": "code",
   "execution_count": 59,
   "id": "5159a163-aa5f-4621-8f78-0f75931fed8b",
   "metadata": {
    "tags": []
   },
   "outputs": [
    {
     "data": {
      "text/plain": [
       "Zip\n",
       "32340    4\n",
       "75077    4\n",
       "44310    4\n",
       "61764    4\n",
       "16115    4\n",
       "        ..\n",
       "43788    1\n",
       "58579    1\n",
       "53526    1\n",
       "79104    1\n",
       "30523    1\n",
       "Name: count, Length: 8583, dtype: int64"
      ]
     },
     "execution_count": 59,
     "metadata": {},
     "output_type": "execute_result"
    }
   ],
   "source": [
    "# Check value counts for the \"Zip\" column\n",
    "df.Zip.value_counts()"
   ]
  },
  {
   "cell_type": "code",
   "execution_count": 60,
   "id": "89a1327b-b87c-4684-b1be-7d1478c88eba",
   "metadata": {
    "tags": []
   },
   "outputs": [
    {
     "name": "stdout",
     "output_type": "stream",
     "text": [
      "PaymentMethod\n",
      "Electronic Check            3398\n",
      "Mailed Check                2290\n",
      "Bank Transfer(automatic)    2229\n",
      "Credit Card (automatic)     2083\n",
      "Name: count, dtype: int64\n"
     ]
    }
   ],
   "source": [
    "# Check value counts for the \"PaymentMethod\" column\n",
    "print(df['PaymentMethod'].value_counts())"
   ]
  },
  {
   "cell_type": "code",
   "execution_count": 61,
   "id": "746b5647-c0b6-463a-8fda-ec76ba0abff0",
   "metadata": {
    "tags": []
   },
   "outputs": [
    {
     "name": "stdout",
     "output_type": "stream",
     "text": [
      "MonthlyCharge\n",
      "137.4757    3\n",
      "147.4886    2\n",
      "115.4933    2\n",
      "172.9128    2\n",
      "192.3656    2\n",
      "           ..\n",
      "105.9719    1\n",
      "236.1058    1\n",
      "150.8860    1\n",
      "150.3587    1\n",
      "218.3710    1\n",
      "Name: count, Length: 9984, dtype: int64\n"
     ]
    }
   ],
   "source": [
    "# Check value counts for the \"MonthlyCharge\" column\n",
    "print(df['MonthlyCharge'].value_counts())"
   ]
  },
  {
   "cell_type": "code",
   "execution_count": 62,
   "id": "66d927cf-0756-4fa6-b5ff-7310bd659be6",
   "metadata": {
    "tags": []
   },
   "outputs": [
    {
     "name": "stdout",
     "output_type": "stream",
     "text": [
      "Gender\n",
      "Female                  5025\n",
      "Male                    4744\n",
      "Prefer not to answer     231\n",
      "Name: count, dtype: int64\n"
     ]
    }
   ],
   "source": [
    "# Check value counts for the \"Gender\" column\n",
    "print(df['Gender'].value_counts())"
   ]
  },
  {
   "cell_type": "code",
   "execution_count": 63,
   "id": "199e0454-4d7b-4da1-8c64-27a1d933bb6d",
   "metadata": {
    "tags": []
   },
   "outputs": [
    {
     "name": "stdout",
     "output_type": "stream",
     "text": [
      "Marital\n",
      "Divorced         2092\n",
      "Widowed          2027\n",
      "Separated        2014\n",
      "Never Married    1956\n",
      "Married          1911\n",
      "Name: count, dtype: int64\n"
     ]
    }
   ],
   "source": [
    "# Check value counts for the \"Marital\" column\n",
    "print(df['Marital'].value_counts())"
   ]
  },
  {
   "cell_type": "code",
   "execution_count": 64,
   "id": "413d1f7c-ecae-482c-a47c-5a7e4e5d7e44",
   "metadata": {
    "tags": []
   },
   "outputs": [
    {
     "name": "stdout",
     "output_type": "stream",
     "text": [
      "Contract\n",
      "Month-to-month    5456\n",
      "Two Year          2442\n",
      "One year          2102\n",
      "Name: count, dtype: int64\n"
     ]
    }
   ],
   "source": [
    "# Check value counts for the \"Contract\" column\n",
    "print(df['Contract'].value_counts())"
   ]
  },
  {
   "cell_type": "code",
   "execution_count": 65,
   "id": "a7ca9079-b69e-4229-9541-667688100eee",
   "metadata": {
    "tags": []
   },
   "outputs": [
    {
     "name": "stdout",
     "output_type": "stream",
     "text": [
      "InternetService\n",
      "Fiber Optic    4408\n",
      "DSL            3463\n",
      "Name: count, dtype: int64\n"
     ]
    }
   ],
   "source": [
    "# Check value counts for the \"InternetService\" column\n",
    "print(df['InternetService'].value_counts())"
   ]
  }
 ],
 "metadata": {
  "kernelspec": {
   "display_name": "Python 3 (ipykernel)",
   "language": "python",
   "name": "python3"
  },
  "language_info": {
   "codemirror_mode": {
    "name": "ipython",
    "version": 3
   },
   "file_extension": ".py",
   "mimetype": "text/x-python",
   "name": "python",
   "nbconvert_exporter": "python",
   "pygments_lexer": "ipython3",
   "version": "3.11.5"
  }
 },
 "nbformat": 4,
 "nbformat_minor": 5
}
